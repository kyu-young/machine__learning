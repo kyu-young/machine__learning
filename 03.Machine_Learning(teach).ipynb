{
 "cells": [
  {
   "cell_type": "code",
   "execution_count": null,
   "metadata": {},
   "outputs": [],
   "source": [
    "# 1. introduction\n",
    "# 2. 수치미분\n",
    "\n",
    "# 9월 21일(월요일)\n",
    "\n",
    "# 1. Introduction\n",
    "\n",
    "# Machine Learning에 대해서 알아보아요!!\n",
    "\n",
    "# AI(인공지능-Artificial Intelligence)\n",
    "# 사람이 가지는 가장 큰 특성이라고 할 수 있는 학습능력, 추론능력을\n",
    "# 컴퓨터를 통해서 구현하는 가장 큰 포괄적인 개념\n",
    "\n",
    "# Machine Learning : AI를 구현하기 위한 하나의 방법. \n",
    "# 데이터를 이용해서 데이터의 특성과 패턴을 파악한 후 해당 내용을 학습해서\n",
    "# 그 결과를 바탕으로 미지의 데이터에 대해 미래 결과를 예측.\n",
    "# 1. Regression(Linear Regression, Logistic Regression)\n",
    "#    연속적인 값예측, 분류도 가능.\n",
    "# 2. SVM(Support Vector Machine)\n",
    "# 3. Decision Tree\n",
    "# 4. Random Forest\n",
    "# 5. Naive Bayes\n",
    "# 6. KNN(K-Nearest Neighbor)\n",
    "# 7. Neural Network(신경망)\n",
    "# 8. Clustering(K-Means, DBSCAN)\n",
    "# 9. Reinforcement Learning\n",
    "\n",
    "# Data Mining : 데이터의 상관관계를 파악, 새로운 속성을 추출해내는데 목적\n",
    "#               우리가 하는 machine learning과는 달라요!\n",
    "\n",
    "# Deep Learning : Machine Learning을 구현하기 위한 하나의 방법인 신경망을\n",
    "#                 이용하는 구조 + 알고리즘 의 집합.\n",
    "#                 CNN, RNN, LSTM, GAN, ...\n",
    "\n",
    "# Why Machine Learning??\n",
    "\n",
    "# Machine Learning이 왜 필요할까요?\n",
    "# Explicit program의 한계때문에 등장.\n",
    "# Explicit program => rule based programming(우리가 일반적으로 하는 프로그램 모두!)\n",
    "# 조건이 너무 많은 경우\n",
    "# 프로그램 자체가 데이터를 기반으로 학습을 통해 스스로 배우는 능력을 가질 수 \n",
    "# 있도록 프로그래밍하는 기법\n",
    "###################################################################\n",
    "\n",
    "# Machine Learning의 학습방법에 따른 4가지 타입\n",
    "\n",
    "# 1. 지도학습(Supervised Learning)\n",
    "#    우리가 현실에서 해결해야 하는 대부분의 문제\n",
    "# 2. 비지도학습(UnSupervised Learning)\n",
    "# 3. 준지도학습(Semisupervised Learning)\n",
    "# 4. 강화학습(Reinforcement Learning)\n",
    "\n",
    "# 지도학습(Supervised Learning)\n",
    "# 입력값(x)과 Label(정답,t)을 포함하는 Training Data Set을 이용하여 학습을 진행\n",
    "# 그 학습된 결과를 바탕으로 미지의 데이터에 대한 미래 예측값을 알아내는 방법\n",
    "# - 공부시간에 따른 시험점수 예측       continuous value(연속적인 값) 87점\n",
    "# - 공부시간에 따른 시험 합격 여부 예측 discrete \n",
    "#                                 value(이산값) 0(Fail-False) 1(Pass-True)\n",
    "# - 공부시간에 따른 시험 Grade 예측\n",
    "#                                 value(이산값) 여러개 중 1개\n",
    "# 카드사용 패턴에 따른 도산 신용카드 판별\n",
    "\n",
    "# 지도학습은 어떤 종류의 미래값을 예측하느냐에 따라\n",
    "# Regression(회귀), Classification(분류)\n",
    "# Regression(회귀) : 학습된 결과를 바탕은 연속적인 숫자값을 예측.\n",
    "# Linear Regression(선형회귀) => '얼마나'를 예측하는 방법\n",
    "\n",
    "# 하지만 Logistic Regression은 분류기법\n",
    "# Classification(분류) : 학습된 결과를 바탕으로 주어진 입력값이 어떤 종류의\n",
    "#                        값인지(discrete value)를 구별하는 방식을 의미.\n",
    "#                        '어떤것' 인가를 예측.\n",
    "#                        binary classification(둘 중 하나를 예측)\n",
    "#                        multinomial classification(여러 개 중 하나를 예측)\n",
    "\n",
    "\n",
    "\n",
    "# 비지도학습(Unsupervised Learning)\n",
    "# 입력되는 데이터에 정답(label)이 포함되어 있지 않아요!!\n",
    "# 데이터의 분포, 특징을 학습해서 Grouping을 해 줘요!!\n",
    "# Clustering(군집화)\n",
    "\n",
    "# classification(분류), clustering(군집화)\n",
    "# clustering(군집화) : 비슷한 데이터끼리 Grouping\n",
    "# classification(분류) : 어떤 분류에 속하는 가에 대한 정답을 예측.\n",
    "\n",
    "# 준지도학습 (Semisupervised Learning)\n",
    "# 대표적인 예는 어떤게 있을까요??? => Google Photos\n",
    "\n",
    "#### \n",
    "# 강화학습(Reinforcement Learning)\n",
    "\n"
   ]
  },
  {
   "cell_type": "code",
   "execution_count": 1,
   "metadata": {},
   "outputs": [],
   "source": [
    "# 수치미분쪽으로 넘어가 보아요!!\n",
    "# 기본적으로 이해가 필요해요!!\n",
    "\n",
    "# 고등학교때 미분에 대해서 배웠어요!! 미분에 대한 정의\n",
    "\n",
    "# 어떤 함수의 정의역 속 각 점에서\n",
    "# 독립변수의 값의 변화량과 함수값의 변화량 비율의 극한 혹은 극한의 집합\n",
    "# 치역으로 가지는 새로운 함수\n",
    "\n",
    "# 이런 새로운 함수를 구할 수 있는데 이를 미분이라고 하고 derivative라고 해요!\n",
    "# 약간 다른 의미로 이런 미분함수(도함수)를 구하는 작업을 미분법이라고 하고\n",
    "# differentiation이라고 해요!\n",
    "\n",
    "# 미분은 함수에 있어서 특정 순간의 변화량을 의미!!\n",
    "# x값 에서의 작은 변화가 함수 f(x)를 얼마나 변화시키는가요?\n",
    "\n",
    "# 미분은 크게 2가지 방식이 있어요!\n",
    "\n",
    "# 종이와 펜을 가지고 논리적인 전개로 미분을 수행하는 해석미분\n",
    "# (Anaytical differentiation)\n",
    "\n",
    "# 해석미분을 이용해서 문제를 해결할 수 없을 때 수치적 근사값을 이용해서\n",
    "# 미분을 수행할 수 있어요! 이 방법을 수치미분이라고 해요!\n",
    "# 한가지 조심해야 할 점이 있어요!! delta_x라고 0과 근사한 값을 이용해야 해요!\n",
    "# 이 delta_x를 소수점 8자리 이하로 내려가면 안되요!!(파이썬)\n",
    "# 일반적으로 delta_x를 0.00001수준으로 설정해서 수치미분을 수행!!\n",
    "\n",
    "# 수치미분방법은 크게 3가지\n",
    "# 중앙차분방식으로 미분을 수행.(이 방식이 가장 정확한 값을 도출!!)\n",
    "# 중앙차분방식에 대해 그래프로 이해해 보아요!!"
   ]
  },
  {
   "cell_type": "code",
   "execution_count": 4,
   "metadata": {},
   "outputs": [
    {
     "name": "stdout",
     "output_type": "stream",
     "text": [
      "result : 9.999999999976694\n"
     ]
    }
   ],
   "source": [
    "## 일변수 함수의 수치미분 코드를 Python으로 작성해 보아요!\n",
    "\n",
    "# 입력으로 들어오는 x에서 아주 미세하게 값이 변화할때 함수 f는\n",
    "# 얼마나 변하는지를 수치적으로 계산해서 return\n",
    "\n",
    "# f(x) = x^2\n",
    "# f'(5) = ?\n",
    "\n",
    "\n",
    "def numerical_derivative(f,x):\n",
    "    \n",
    "    # f : 미분하려는 함수가 들어와요!\n",
    "    #     Python은 일급함수를 지원해요!\n",
    "    #     하나의 함수를 다른 함수의 인자로 전달할 수 있어요!\n",
    "    #     일반적으로 외부에서 def, lambda를 이용해서 정의.\n",
    "    # x : 미분값을 알고자하는 입력값.\n",
    "    \n",
    "    # delta_x는 0과 가까운 작은값을 이용하고 1e-8이하는 사용하면 안되요!\n",
    "    # 컴퓨터의 반올림오차때문에 엉뚱한 값이 나와요!\n",
    "    # delta_x는 1e-4 ~ 1e-6정도의 수로 설정하면 됩니다!! (1e-4)\n",
    "    delta_x = 1e-4\n",
    "    \n",
    "    # 중앙차분으로 미분을 수행할꺼예요!\n",
    "    return (f(x + delta_x) - f(x-delta_x)) / (2 * delta_x)\n",
    "\n",
    "# 미분하려는 함수를 만들어요!\n",
    "# f(x) = x^2\n",
    "\n",
    "def my_func(x):\n",
    "    \n",
    "    return x**2\n",
    "    \n",
    "    \n",
    "# 함수 f(x) = x**2 에서 미분계수 f'(5)를 구하세요!\n",
    "result = numerical_derivative(my_func,5)\n",
    "\n",
    "\n",
    "print('result : {}'.format(result))"
   ]
  },
  {
   "cell_type": "code",
   "execution_count": 6,
   "metadata": {},
   "outputs": [
    {
     "name": "stdout",
     "output_type": "stream",
     "text": [
      "결과 : [ 8.         15.00000001]\n"
     ]
    }
   ],
   "source": [
    "# 실제로 우리가 머신러닝, 딥러닝에서 사용할\n",
    "# 미분코드를 작성해 보아요!\n",
    "\n",
    "# 다변수함수에 대한 미분\n",
    "# 다변수 함수인 경우 입력변수가 하나 이상이므로, \n",
    "# 이 입력변수들은 서로 독립이기 때문에 수치미분 할때\n",
    "# 개별적으로 편미분해서 계산해줘야 해요! \n",
    "# f(x,y) = 2x + 3xy + y^3\n",
    "# f'(1.0,2.0) = (8,15)\n",
    "\n",
    "# 수치미분 최종코드\n",
    "import numpy as np\n",
    "\n",
    "def numerical_derivative(f,x):\n",
    "    # f : 미분하려고 하는 다변수 함수\n",
    "    # x : 모든 변수를 포함하고 있어야 해요! ndarray(차원상관없이)\n",
    "    \n",
    "    delta_x = 1e-4\n",
    "    derivative_x = np.zeros_like(x)  # 미분한 결과를 저장하는 ndarray\n",
    "    \n",
    "    # iterator를 이용해서 입력변수 x에 대해 편미분을 수행\n",
    "    it = np.nditer(x, flags=['multi_index'])\n",
    "    \n",
    "    while not it.finished:\n",
    "        \n",
    "        idx = it.multi_index   # iterator의 현재 index를 추출(tuple로 추출)\n",
    "        \n",
    "        # 현재 칸의 값을 어딘가에 잠시 저장해야해요!\n",
    "        tmp = x[idx]  \n",
    "        \n",
    "        x[idx] = tmp + delta_x\n",
    "        fx_plus_delta = f(x)  # f(x + delta_x)\n",
    "        \n",
    "        x[idx] = tmp - delta_x\n",
    "        fx_minus_delta = f(x) # f(x - delta_x)\n",
    "    \n",
    "        derivative_x[idx] = (fx_plus_delta - fx_minus_delta) / (2 * delta_x)\n",
    "        \n",
    "        x[idx] = tmp  # 데이터를 원상 복구\n",
    "        \n",
    "        it.iternext()\n",
    "    \n",
    "    return derivative_x\n",
    "\n",
    "## 이렇게 구현된 최종 수치미분 함수를 이용해서 \n",
    "## 일변수 함수를 미분해 보아요!!\n",
    "\n",
    "# def my_func(x):    \n",
    "#     return x**2\n",
    "# ## f(x) = x^2에서 f'(3) ??\n",
    "# result = numerical_derivative(my_func,np.array([3.0]))\n",
    "\n",
    "# f(x,y) = 2x + 3xy + np.power(y,3)\n",
    "## 이변수 함수를 미분해 보아요!!\n",
    "def my_func(input_data):\n",
    "    x = input_data[0]\n",
    "    y = input_data[1]\n",
    "    \n",
    "    return 2*x + 3*x*y + np.power(y,3)\n",
    "\n",
    "result =  numerical_derivative(my_func, np.array([1.0,2.0]))\n",
    "\n",
    "print('결과 : {}'.format(result))"
   ]
  },
  {
   "cell_type": "code",
   "execution_count": 8,
   "metadata": {
    "scrolled": false
   },
   "outputs": [
    {
     "data": {
      "text/html": [
       "<div>\n",
       "<style scoped>\n",
       "    .dataframe tbody tr th:only-of-type {\n",
       "        vertical-align: middle;\n",
       "    }\n",
       "\n",
       "    .dataframe tbody tr th {\n",
       "        vertical-align: top;\n",
       "    }\n",
       "\n",
       "    .dataframe thead th {\n",
       "        text-align: right;\n",
       "    }\n",
       "</style>\n",
       "<table border=\"1\" class=\"dataframe\">\n",
       "  <thead>\n",
       "    <tr style=\"text-align: right;\">\n",
       "      <th></th>\n",
       "      <th>공부시간(x)</th>\n",
       "      <th>시험점수(t)</th>\n",
       "    </tr>\n",
       "  </thead>\n",
       "  <tbody>\n",
       "    <tr>\n",
       "      <th>0</th>\n",
       "      <td>1</td>\n",
       "      <td>5</td>\n",
       "    </tr>\n",
       "    <tr>\n",
       "      <th>1</th>\n",
       "      <td>2</td>\n",
       "      <td>7</td>\n",
       "    </tr>\n",
       "    <tr>\n",
       "      <th>2</th>\n",
       "      <td>3</td>\n",
       "      <td>20</td>\n",
       "    </tr>\n",
       "    <tr>\n",
       "      <th>3</th>\n",
       "      <td>4</td>\n",
       "      <td>31</td>\n",
       "    </tr>\n",
       "    <tr>\n",
       "      <th>4</th>\n",
       "      <td>5</td>\n",
       "      <td>40</td>\n",
       "    </tr>\n",
       "  </tbody>\n",
       "</table>\n",
       "</div>"
      ],
      "text/plain": [
       "   공부시간(x)  시험점수(t)\n",
       "0        1        5\n",
       "1        2        7\n",
       "2        3       20\n",
       "3        4       31\n",
       "4        5       40"
      ]
     },
     "metadata": {},
     "output_type": "display_data"
    },
    {
     "data": {
      "image/png": "[encoded data removed]",
      "text/plain": [
       "<Figure size 432x288 with 1 Axes>"
      ]
     },
     "metadata": {
      "needs_background": "light"
     },
     "output_type": "display_data"
    }
   ],
   "source": [
    "# Machine Learning에서의 Regression\n",
    "# 지도학습은 학습된 결과를 바탕으로 미래의 무엇을 예측하느냐에 따라\n",
    "# 크게 2가지로 구분되요!\n",
    "\n",
    "# Regression\n",
    "# - Linear Regression\n",
    "#   => Training Data Set을 이용해서 학습된 결과를 만들고\n",
    "#      연속적인 숫자값을 예측하는 것을 의미해요!\n",
    "# - Logistic Regression\n",
    "\n",
    "# Classification\n",
    "# - binary classification\n",
    "# - multinomial classification\n",
    "\n",
    "# 문제를 단순화시켜서 다음의 데이터를 이용해 보아요!\n",
    "# 공부시간(x), 시험점수(t)를 이용해서 데이터를 표현해 보아요!\n",
    "# 이 데이터를 2차원 평면에 scatter(산점도)를 이용해서 표현해 보아요!!\n",
    "\n",
    "import numpy as np\n",
    "import pandas as pd\n",
    "import matplotlib.pyplot as plt\n",
    "\n",
    "data = { '공부시간(x)' : [1,2,3,4,5,7,8,10,12,13,14,15,18,20,25,28,30],\n",
    "         '시험점수(t)' : [5,7,20,31,40,44,46,49,60,62,70,80,85,91,92,97,98]}\n",
    "\n",
    "df = pd.DataFrame(data)\n",
    "\n",
    "display(df.head())\n",
    "\n",
    "plt.scatter(df['공부시간(x)'],df['시험점수(t)'])  # 산점도를 구할 수 있어요!\n",
    "plt.show()\n"
   ]
  },
  {
   "cell_type": "code",
   "execution_count": 12,
   "metadata": {
    "scrolled": true
   },
   "outputs": [
    {
     "data": {
      "image/png": "[encoded data removed]",
      "text/plain": [
       "<Figure size 432x288 with 1 Axes>"
      ]
     },
     "metadata": {
      "needs_background": "light"
     },
     "output_type": "display_data"
    }
   ],
   "source": [
    "# 이 데이터를 이용해서 \n",
    "# 이 데이터를 가장 잘 표현하는 직선을 하나 그릴꺼예요!!\n",
    "# 직선이니까..y = ax + b (a는 기울기(slop), b는 절편(intercept))\n",
    "\n",
    "import numpy as np\n",
    "import pandas as pd\n",
    "import matplotlib.pyplot as plt\n",
    "\n",
    "data = { '공부시간(x)' : [1,2,3,4,5,7,8,10,12,13,14,15,18,20,25,28,30],\n",
    "         '시험점수(t)' : [5,7,20,31,40,44,46,49,60,62,70,80,85,91,92,97,98]}\n",
    "\n",
    "df = pd.DataFrame(data)\n",
    "\n",
    "plt.scatter(df['공부시간(x)'],df['시험점수(t)'])  # 산점도를 구할 수 있어요!\n",
    "# 직선을 표현하는게...y = ax + b\n",
    "plt.plot(df['공부시간(x)'],df['공부시간(x)']*2 + 3, color='g')\n",
    "plt.plot(df['공부시간(x)'],df['공부시간(x)']*5 - 7, color='r')\n",
    "plt.plot(df['공부시간(x)'],df['공부시간(x)']*1 + 8, color='b')\n",
    "plt.plot(df['공부시간(x)'],df['공부시간(x)']*4 - 10, color='magenta')\n",
    "plt.show()\n"
   ]
  },
  {
   "cell_type": "code",
   "execution_count": null,
   "metadata": {},
   "outputs": [],
   "source": [
    "# 초기의 기울기 a와 절편 b는 랜덤하게 결정되고 그 이 후 우리가 가지는 데이터의 \n",
    "# 특성을 가장 잘 표현하기 위한 직선을 찾아가는 과정이 진행되게 됩니다.!!\n",
    "# 이 과정을 우리는 학습(learning)이라고 해요!\n",
    "# 결국은 데이터를 가장 잘 표현하는 직선(y)를 만들 수 있고\n",
    "# 이 직선을 predictive model이라고 해요! => linear regression\n",
    "\n",
    "# y = ax + b (수학에서 이렇게 표현하죠..)\n",
    "# y = Wx + b (W : weight, 가중치) (b : bias, 바이어스)\n",
    "\n",
    "# 대체 W와 b는 어떻게 결정이 되는것인가??\n"
   ]
  },
  {
   "cell_type": "code",
   "execution_count": 13,
   "metadata": {},
   "outputs": [
    {
     "data": {
      "image/png": "[encoded data removed]",
      "text/plain": [
       "<Figure size 432x288 with 1 Axes>"
      ]
     },
     "metadata": {
      "needs_background": "light"
     },
     "output_type": "display_data"
    }
   ],
   "source": [
    "# 오차\n",
    "# 오차를 이해하기 위해 선 1개만을 가지고 생각을 해 보아요!\n",
    "import numpy as np\n",
    "import pandas as pd\n",
    "import matplotlib.pyplot as plt\n",
    "\n",
    "data = { '공부시간(x)' : [1,2,3,4,5,7,8,10,12,13,14,15,18,20,25,28,30],\n",
    "         '시험점수(t)' : [5,7,20,31,40,44,46,49,60,62,70,80,85,91,92,97,98]}\n",
    "\n",
    "df = pd.DataFrame(data)\n",
    "\n",
    "plt.scatter(df['공부시간(x)'],df['시험점수(t)'])  # 산점도를 구할 수 있어요!\n",
    "plt.plot(df['공부시간(x)'],df['공부시간(x)']*5 - 7, color='r')\n",
    "plt.show()\n"
   ]
  },
  {
   "cell_type": "code",
   "execution_count": 15,
   "metadata": {
    "scrolled": true
   },
   "outputs": [
    {
     "data": {
      "image/png": "[encoded data removed]",
      "text/plain": [
       "<Figure size 432x288 with 1 Axes>"
      ]
     },
     "metadata": {
      "needs_background": "light"
     },
     "output_type": "display_data"
    }
   ],
   "source": [
    "# loss function의 모양을 확인하기 위해 graph를 그려보아요!\n",
    "\n",
    "import numpy as np\n",
    "import matplotlib.pyplot as plt\n",
    "\n",
    "# training data set\n",
    "x = np.arange(1,101)\n",
    "t = np.arange(1,101)\n",
    "\n",
    "# W\n",
    "W = np.arange(-10,13)\n",
    "\n",
    "loss = []\n",
    "\n",
    "for tmp in W:\n",
    "    loss.append(np.power((t-tmp*x),2).mean())\n",
    "\n",
    "plt.plot(W,loss)\n",
    "plt.show()\n",
    "\n"
   ]
  },
  {
   "cell_type": "code",
   "execution_count": 5,
   "metadata": {},
   "outputs": [
    {
     "name": "stdout",
     "output_type": "stream",
     "text": [
      "W : [[0.49417831]], b : [0.37983543], loss : 3244.319006560954\n",
      "W : [[3.69504764]], b : [7.78679568], loss : 115.22346215197675\n",
      "W : [[3.48038611]], b : [11.80992317], loss : 96.67920924632493\n",
      "W : [[3.36085004]], b : [14.05023533], loss : 90.92879907596036\n",
      "W : [[3.29428538]], b : [15.29777188], loss : 89.14564732023132\n",
      "W : [[3.2572183]], b : [15.99247303], loss : 88.59270760119254\n",
      "W : [[3.23657718]], b : [16.37932317], loss : 88.42124584427404\n",
      "W : [[3.225083]], b : [16.59474391], loss : 88.3680770573822\n",
      "W : [[3.21868237]], b : [16.71470274], loss : 88.35158988292199\n",
      "W : [[3.21511813]], b : [16.78150282], loss : 88.34647735473459\n",
      "[[77.86823473]]\n"
     ]
    },
    {
     "data": {
      "image/png": "[encoded data removed]",
      "text/plain": [
       "<Figure size 432x288 with 1 Axes>"
      ]
     },
     "metadata": {
      "needs_background": "light"
     },
     "output_type": "display_data"
    }
   ],
   "source": [
    "# Linear Regression Model의 이론적인 부분을 살펴보았으니\n",
    "# 해당 내용을 Python으로 구현해 보아요!!\n",
    "\n",
    "# 코드를 구현하는 절차는 다음과 같아요!!\n",
    "\n",
    "# 1. Training Data Set을 준비\n",
    "#    머신러닝에 입력으로 사용될 데이터를 NumPy array(ndarray)형태로 준비!\n",
    "\n",
    "# 2. Linear Regression Model을 정의\n",
    "#    y = Wx + b => model을 프로그램적으로 표현.\n",
    "#    W와 b에 대한 변수 선언한 후 초기값은 랜덤값을 이용할 꺼예요!!\n",
    "\n",
    "# 3. loss function을 정의 : 손실함수(loss function)에 대한 코드를 작성\n",
    "#                           행렬 처리해야 해요!!\n",
    "\n",
    "# 4. learning rate의 정의 : 일반적으로 customizing이 되는 값으로 초기에는\n",
    "#                           0.001정도로 설정해서 사용하고 loss값을 보고\n",
    "#                           수치를 조절할 필요가 있어요!\n",
    "\n",
    "# 5. 학습을 진행 : 반복적으로 편미분을 이용해서 W와 b를 update하는 방식으로\n",
    "#                  구현.\n",
    "\n",
    "import numpy as np\n",
    "import matplotlib.pyplot as plt\n",
    "\n",
    "# Training Data Set\n",
    "x_data = np.array([1,2,3,4,5,7,8,10,12,13,14,15,18,20,25,28,30]).reshape(-1,1)\n",
    "t_data = np.array([5,7,20,31,40,44,46,49,60,62,70,80,85,91,92,97,98]).reshape(-1,1)\n",
    "\n",
    "# Linear Regression Model을 정의\n",
    "W = np.random.rand(1,1)  # matrix\n",
    "b = np.random.rand(1)    # scalar\n",
    "\n",
    "# Hypothesis는 따로 표현하지 않아요!\n",
    "\n",
    "# loss function\n",
    "def loss_func(x,t):\n",
    "    \n",
    "    y = np.dot(x,W) + b\n",
    "    \n",
    "    return np.mean(np.power((t-y),2))    # 최소제곱법\n",
    "\n",
    "# 미분함수\n",
    "def numerical_derivative(f,x):\n",
    "    # f : 미분하려고 하는 다변수 함수\n",
    "    # x : 모든 변수를 포함하고 있어야 해요! ndarray(차원상관없이)\n",
    "    \n",
    "    delta_x = 1e-4\n",
    "    derivative_x = np.zeros_like(x)  # 미분한 결과를 저장하는 ndarray\n",
    "    \n",
    "    # iterator를 이용해서 입력변수 x에 대해 편미분을 수행\n",
    "    it = np.nditer(x, flags=['multi_index'])\n",
    "    \n",
    "    while not it.finished:\n",
    "        \n",
    "        idx = it.multi_index   # iterator의 현재 index를 추출(tuple로 추출)\n",
    "        \n",
    "        # 현재 칸의 값을 어딘가에 잠시 저장해야해요!\n",
    "        tmp = x[idx]  \n",
    "        \n",
    "        x[idx] = tmp + delta_x\n",
    "        fx_plus_delta = f(x)  # f(x + delta_x)\n",
    "        \n",
    "        x[idx] = tmp - delta_x\n",
    "        fx_minus_delta = f(x) # f(x - delta_x)\n",
    "    \n",
    "        derivative_x[idx] = (fx_plus_delta - fx_minus_delta) / (2 * delta_x)\n",
    "        \n",
    "        x[idx] = tmp  # 데이터를 원상 복구\n",
    "        \n",
    "        it.iternext()\n",
    "    \n",
    "    return derivative_x\n",
    "\n",
    "# 학습 종료 후 임의의 데이터에 대한 예측값을 알아오는 함수\n",
    "# prediction\n",
    "def predict(x):\n",
    "    \n",
    "    return np.dot(x,W) + b   # Hypothesis, Linear Regression Model\n",
    "\n",
    "# learning rate라는 상수가 필요. 정의해야 해요!\n",
    "learning_rate = 0.0001\n",
    "\n",
    "# 미분을 진행할 loss_func에 대한 lambda 함수를 정의\n",
    "f = lambda x : loss_func(x_data,t_data)\n",
    "\n",
    "\n",
    "# 학습을 진행!!\n",
    "# 반복해서 학습을 진행..(W와 b를 update하면서 반복적으로 학습을 진행!)\n",
    "for step in range(90000):\n",
    "    \n",
    "    W = W - learning_rate * numerical_derivative(f,W)  # W의 편미분\n",
    "    b = b - learning_rate * numerical_derivative(f,b)  # b의 편미분\n",
    "    \n",
    "    if step % 9000 == 0:\n",
    "        print('W : {}, b : {}, loss : {}'.format(W,b,loss_func(x_data,t_data)))\n",
    "        \n",
    "\n",
    "# 학습종료 후 예측\n",
    "print(predict(19))\n",
    "\n",
    "# 데이터의 분포를 scatter로 확인\n",
    "plt.scatter(x_data.ravel(),t_data.ravel())\n",
    "plt.plot(x_data.ravel(), np.dot(x_data,W) + b)  # 직선\n",
    "plt.show()"
   ]
  },
  {
   "cell_type": "code",
   "execution_count": 19,
   "metadata": {
    "scrolled": false
   },
   "outputs": [
    {
     "name": "stdout",
     "output_type": "stream",
     "text": [
      "(153, 2)\n",
      "(116, 2)\n",
      "W : [[0.65401038]], b : [0.82144808], loss : 926.1578678064943\n",
      "W : [[0.55962084]], b : [0.69188589], loss : 868.8670660522793\n",
      "W : [[0.56124563]], b : [0.56350101], loss : 868.3175663058429\n",
      "W : [[0.56286902]], b : [0.43522773], loss : 867.7690215062655\n",
      "W : [[0.56449099]], b : [0.30706595], loss : 867.2214299939918\n",
      "W : [[0.56611155]], b : [0.17901559], loss : 866.6747901123539\n",
      "W : [[0.56773071]], b : [0.05107655], loss : 866.1291002075609\n",
      "W : [[0.56934846]], b : [-0.07675128], loss : 865.5843586287035\n",
      "W : [[0.5709648]], b : [-0.20446799], loss : 865.0405637277339\n",
      "W : [[0.57257973]], b : [-0.33207367], loss : 864.4977138594662\n"
     ]
    },
    {
     "data": {
      "image/png": "[encoded data removed]",
      "text/plain": [
       "<Figure size 432x288 with 1 Axes>"
      ]
     },
     "metadata": {
      "needs_background": "light"
     },
     "output_type": "display_data"
    },
    {
     "name": "stdout",
     "output_type": "stream",
     "text": [
      "[[35.14042298]]\n"
     ]
    }
   ],
   "source": [
    "# Simple Linear Regression\n",
    "# 온도에 따른 오존량 예측\n",
    "import numpy as np\n",
    "import pandas as pd\n",
    "import matplotlib.pyplot as plt\n",
    "# from my_library.machine_learning_library import numerical_derivative\n",
    "\n",
    "##################\n",
    "\n",
    "def numerical_derivative(f,x):\n",
    "    # f : 미분하려고 하는 다변수 함수\n",
    "    # x : 모든 변수를 포함하고 있어야 해요! ndarray(차원상관없이)\n",
    "    \n",
    "    delta_x = 1e-4\n",
    "    derivative_x = np.zeros_like(x)  # 미분한 결과를 저장하는 ndarray\n",
    "    \n",
    "    # iterator를 이용해서 입력변수 x에 대해 편미분을 수행\n",
    "    it = np.nditer(x, flags=['multi_index'])\n",
    "    \n",
    "    while not it.finished:\n",
    "        \n",
    "        idx = it.multi_index   # iterator의 현재 index를 추출(tuple로 추출)\n",
    "        \n",
    "        # 현재 칸의 값을 어딘가에 잠시 저장해야해요!\n",
    "        tmp = x[idx]  \n",
    "        \n",
    "        x[idx] = tmp + delta_x\n",
    "        fx_plus_delta = f(x)  # f(x + delta_x)\n",
    "        \n",
    "        x[idx] = tmp - delta_x\n",
    "        fx_minus_delta = f(x) # f(x - delta_x)\n",
    "    \n",
    "        derivative_x[idx] = (fx_plus_delta - fx_minus_delta) / (2 * delta_x)\n",
    "        \n",
    "        x[idx] = tmp  # 데이터를 원상 복구\n",
    "        \n",
    "        it.iternext()\n",
    "    \n",
    "    return derivative_x\n",
    "\n",
    "##################\n",
    "\n",
    "# 1. Raw Data Loading\n",
    "df = pd.read_csv('./data/ozone.csv')\n",
    "# display(df)\n",
    "\n",
    "\n",
    "# 2. Data Preprocessing(데이터 전처리)\n",
    "#    - 결측치 처리\n",
    "#      - 삭제, 값을 변경(평균, 최대, 최소), 값을 예측해서 값을 대체. \n",
    "#    - 이상치 처리(outlier)\n",
    "#      - 이상치를 검출하고, 변경하는 작업\n",
    "#    - 데이터 정규화 작업\n",
    "#    - 학습에 필요한 컬럼을 추출, 새로 생성.\n",
    "\n",
    "# 필요한 column(Temp, Ozone)만 추출해요!\n",
    "# 결치값을 제거!!\n",
    "\n",
    "training_data = df[['Temp', 'Ozone']]\n",
    "print(training_data.shape)  # (153, 2)\n",
    "\n",
    "# 결치값을 제거할꺼예요..리스크가 있지만 그냥 이렇게 진행하죠!!\n",
    "training_data = training_data.dropna(how='any')\n",
    "print(training_data.shape)  # (116, 2)\n",
    "\n",
    "# 3. Training Data Set\n",
    "x_data = training_data['Temp'].values.reshape(-1,1)\n",
    "t_data = training_data['Ozone'].values.reshape(-1,1)\n",
    "\n",
    "# 4. 지금 우리는 Simple Linear Regression\n",
    "#    y = Wx + b\n",
    "#    그래서 우리가 구해야 하는 W,b를 정의\n",
    "W = np.random.rand(1,1)\n",
    "b = np.random.rand(1)\n",
    "\n",
    "# 5. loss function 정의\n",
    "def loss_func(x,t):\n",
    "    \n",
    "    y = np.dot(x,W) + b\n",
    "    \n",
    "    return np.mean(np.power((t-y),2))  # 최소제곱법에 대한 코드\n",
    "\n",
    "# 6. 학습종료 후 예측값을 알아오는 함수\n",
    "def predict(x):\n",
    "    \n",
    "    return np.dot(x,W) + b\n",
    "\n",
    "# 7. 프로그램에서 필요한 변수들을 정의\n",
    "learning_rate = 1e-5\n",
    "f = lambda x : loss_func(x_data,t_data)\n",
    "\n",
    "\n",
    "# 8. 학습을 진행!\n",
    "for step in range(30000):\n",
    "    \n",
    "    W -= learning_rate * numerical_derivative(f, W)\n",
    "    b -= learning_rate * numerical_derivative(f, b)\n",
    "    \n",
    "    if step % 3000 == 0:\n",
    "        print('W : {}, b : {}, loss : {}'.format(W,b,loss_func(x_data,t_data)))\n",
    "\n",
    "# 9. 그래프로 확인해보아요!\n",
    "\n",
    "plt.scatter(x_data,t_data)\n",
    "plt.plot(x_data,np.dot(x_data,W) + b, color='r')\n",
    "plt.show()\n",
    "\n",
    "# 10. 예측을 해 보아요!!\n",
    "result = predict(62)\n",
    "print(result)  # [[35.14042298]]"
   ]
  },
  {
   "cell_type": "code",
   "execution_count": 20,
   "metadata": {
    "scrolled": true
   },
   "outputs": [
    {
     "name": "stdout",
     "output_type": "stream",
     "text": [
      "(153, 2)\n",
      "(116, 2)\n",
      "W : [[2.4287033]], b : [-146.99549097]\n"
     ]
    },
    {
     "data": {
      "image/png": "[encoded data removed]",
      "text/plain": [
       "<Figure size 432x288 with 1 Axes>"
      ]
     },
     "metadata": {
      "needs_background": "light"
     },
     "output_type": "display_data"
    },
    {
     "name": "stdout",
     "output_type": "stream",
     "text": [
      "[[3.58411393]]\n"
     ]
    }
   ],
   "source": [
    "# sklearn을 이용해서 같은 데이터로 학습을 시키고 예측을\n",
    "# 해보아요!!\n",
    "\n",
    "# sklean은 데이터분석, 머신러닝 라이브러리중 하나로\n",
    "# 굉장히 유명하고 효율이 좋은 라이브러리 예요!!\n",
    "\n",
    "# 믿고쓰는 sklearn을 이용해서 한번 구현을 해 보아요!!\n",
    "import numpy as np\n",
    "import pandas as pd\n",
    "import matplotlib.pyplot as plt\n",
    "from sklearn import linear_model\n",
    "\n",
    "# 1. Raw Data Loading\n",
    "df = pd.read_csv('./data/ozone.csv')\n",
    "\n",
    "training_data = df[['Temp', 'Ozone']]\n",
    "print(training_data.shape)  # (153, 2)\n",
    "\n",
    "training_data = training_data.dropna(how='any')\n",
    "print(training_data.shape)  # (116, 2)\n",
    "\n",
    "# 3. Training Data Set\n",
    "x_data = training_data['Temp'].values.reshape(-1,1)\n",
    "t_data = training_data['Ozone'].values.reshape(-1,1)\n",
    "\n",
    "# 4. sklearn을 이용해서 linear regression model 객체를 생성\n",
    "#    아직 완성되지 않은(학습되지 않은 모델을 일단 생성)\n",
    "model = linear_model.LinearRegression()\n",
    "\n",
    "# 5. Training Data Set을 이용해서 학습을 진행!\n",
    "model.fit(x_data,t_data)\n",
    "\n",
    "# 6. W와 b값을 알아내야 해요!\n",
    "print('W : {}, b : {}'.format(model.coef_, model.intercept_))\n",
    "\n",
    "# 7. 그래프로 확인해보아요!\n",
    "plt.scatter(x_data, t_data)\n",
    "plt.plot(x_data,np.dot(x_data,model.coef_) + model.intercept_, color='r')\n",
    "plt.show()\n",
    "\n",
    "# 8. 예측을한번 해보아요!!\n",
    "predict_val = model.predict([[62]])   # 온도를 이용해서 오존량을 예측해보아요!\n",
    "print(predict_val)  # [[3.58411393]]"
   ]
  },
  {
   "cell_type": "code",
   "execution_count": 34,
   "metadata": {
    "scrolled": false
   },
   "outputs": [
    {
     "name": "stdout",
     "output_type": "stream",
     "text": [
      "8.473333333333333\n",
      "8.0\n",
      "4.5\n",
      "8.0\n",
      "11.5\n",
      "upper_fense : 22.0\n",
      "lower_fense : -6.0\n",
      "[22.1]\n"
     ]
    },
    {
     "data": {
      "image/png": "[encoded data removed]",
      "text/plain": [
       "<Figure size 432x288 with 2 Axes>"
      ]
     },
     "metadata": {
      "needs_background": "light"
     },
     "output_type": "display_data"
    }
   ],
   "source": [
    "## 이런 문제가 발생하는 이유는\n",
    "## 데이터 전처리가 잘 안되서 그래요!!\n",
    "\n",
    "# 머신러닝에서 학습이 잘 되기 위해서는 데이터의 전처리가\n",
    "# 필수예요!!\n",
    "# 2가지 정도만 얘기해 보아요!\n",
    "# 결측치 처리는... 여기서는 일단 삭제처리로 끝낼꺼예요!\n",
    "# 이상치처리(outlier)\n",
    "# 데이터의 정규화\n",
    "\n",
    "# 이상치 처리(Outlier)\n",
    "# Z-Score (분산, 표준편차를 이용하는 이상치 검출방식 - 통계기반)\n",
    "# Tukey Outlier(4분위값을 이용하는 이상치 검출방식)\n",
    "# 이상치(Outlier)는 속성의 값이 일반적인 값보다 편차가 큰 값을 의미.\n",
    "# 즉, 데이터 전체 패턴에서 동떨어져 있는 관측치를 지칭!\n",
    "# 평균뿐아니라 분산에도 영향을 미치기때문에 결국은 데이터 전체의\n",
    "# 안정성을 저해하는 요소.\n",
    "# 그래서 이상치는 반드시 처리해야 하고 이것을 검출하고 처리하는데\n",
    "# 상당히 많은 시간이 소요되는게 일반적.\n",
    "\n",
    "# 독립변수(온도)에 있는 이상치를 지대점이라고 하고\n",
    "# 종속변수(오존량)에 있는 이상치를 outlier라고 해요!\n",
    "\n",
    "# Tukey outlier를 이용해서 처리해 보아요!\n",
    "# 4분위값을 이용해서 outlier를 감지할 수 있어요!\n",
    "# boxplot이라는걸 이용해서 확인할 수 있어요!\n",
    "\n",
    "# Boxplot을 사용할 때 이상치를 분류하는 기준은 IQR value를 사용\n",
    "# IQR value = 3사분위값 - 1사분위값\n",
    "# 어떤값을 이상치로 반별하는가???\n",
    "# 1사분위수 - 1.5 * IQR value 이 값보다 작은 값은 이상치로 판별\n",
    "# 3사분위수 + 1.5 * IQR value 이 값보다 큰 값은 이상치로 판별\n",
    "\n",
    "import numpy as np\n",
    "import matplotlib.pyplot as plt\n",
    "\n",
    "data = np.array([1,2,3,4,5,6,7,8,9,10,11,12,13,14,22.1])\n",
    "\n",
    "fig = plt.figure()   # 새로운 그림(figure)을 생성\n",
    "   \n",
    "fig_1 = fig.add_subplot(1,2,1) # 1행 2열의 subplot의 위치가 1번 위치\n",
    "fig_2 = fig.add_subplot(1,2,2) # 1행 2열의 subplot의 위치가 2번 위치\n",
    "\n",
    "fig_1.set_title('Original Data Boxplot')\n",
    "fig_1.boxplot(data)\n",
    "\n",
    "# numpy로 사분위수를 구하려면 percentile() 함수를 이용해요!\n",
    "print(np.mean(data))   # 평균\n",
    "print(np.median(data)) # 중위수, 2사분위, 미디언\n",
    "print(np.percentile(data,25))  # 1사분위\n",
    "print(np.percentile(data,50))  # 2사분위\n",
    "print(np.percentile(data,75))  # 3사분위\n",
    "\n",
    "# 이상치를 검출할려면 IQR value가 필요\n",
    "IQR_val = np.percentile(data,75) - np.percentile(data,25)\n",
    "\n",
    "upper_fense = np.percentile(data,75) + 1.5 * IQR_val\n",
    "lower_fense = np.percentile(data,25) - 1.5 * IQR_val\n",
    "\n",
    "print('upper_fense : {}'.format(upper_fense))\n",
    "print('lower_fense : {}'.format(lower_fense))\n",
    "\n",
    "# 데이터중에 이상치를 출력하고 \n",
    "# 이상치를 제거한 데이터로 boxplot을 그려보세요!!\n",
    "# boolean indexing이용하면 간단하게 알아낼 수 있어요!\n",
    "print(data[(data > upper_fense) | (data < lower_fense)])\n",
    "\n",
    "result_data = data[(data <= upper_fense) & (data >= lower_fense)]\n",
    "\n",
    "fig_2.set_title('Remove Outlier Boxplot')\n",
    "fig_2.boxplot(result_data)\n",
    "\n",
    "plt.show()"
   ]
  },
  {
   "cell_type": "code",
   "execution_count": 48,
   "metadata": {},
   "outputs": [
    {
     "name": "stdout",
     "output_type": "stream",
     "text": [
      "[22.1]\n",
      "[ 1.  2.  3.  4.  5.  6.  7.  8.  9. 10. 11. 12. 13. 14.]\n"
     ]
    }
   ],
   "source": [
    "from scipy import stats\n",
    "\n",
    "data = np.array([1,2,3,4,5,6,7,8,9,10,11,12,13,14,22.1])\n",
    "\n",
    "zscore_threshold = 2 # zscore outlier 임계값( 일반적 2 )\n",
    "\n",
    "\n",
    "outliers = data[np.abs(stats.zscore(data)) > zscore_threshold]\n",
    "print(outliers)\n",
    "\n",
    "print(data[np.isin(data,outliers, invert=True)])"
   ]
  },
  {
   "cell_type": "code",
   "execution_count": 54,
   "metadata": {},
   "outputs": [
    {
     "name": "stdout",
     "output_type": "stream",
     "text": [
      "plus -> x[idx] : 0.5037654253330343\n",
      "fx_plus_delta : 3218.2066653588954\n",
      "minus -> x[idx] : 0.5035654253330343\n",
      "fx_minus_delta : 3218.5465785457955\n",
      "plus -> x[idx] : 0.47637704892529\n",
      "fx_plus_delta : 2936.370485561086\n",
      "minus -> x[idx] : 0.47617704892529\n",
      "fx_minus_delta : 2936.3898755506416\n",
      "W : [[0.67362202]], b : [0.48597204], loss : 2935.4403453013456\n",
      "plus -> x[idx] : 0.6737220187830585\n",
      "fx_plus_delta : 2935.278483543524\n",
      "minus -> x[idx] : 0.6735220187830585\n",
      "fx_minus_delta : 2935.6022118062256\n",
      "plus -> x[idx] : 0.4860720437031639\n",
      "fx_plus_delta : 2679.6497378483054\n",
      "minus -> x[idx] : 0.48587204370316395\n",
      "fx_minus_delta : 2679.668305117787\n",
      "plus -> x[idx] : 0.8355861501337981\n",
      "fx_plus_delta : 2678.6430944287486\n",
      "minus -> x[idx] : 0.8353861501337981\n",
      "fx_minus_delta : 2678.951408156122\n",
      "plus -> x[idx] : 0.49535567844393225\n",
      "fx_plus_delta : 2446.7855065273156\n",
      "minus -> x[idx] : 0.49515567844393227\n",
      "fx_minus_delta : 2446.803290230975\n",
      "plus -> x[idx] : 0.9897430138204922\n",
      "fx_plus_delta : 2445.8570130625862\n",
      "minus -> x[idx] : 0.9895430138204923\n",
      "fx_minus_delta : 2446.1506459736506\n",
      "plus -> x[idx] : 0.5042475302736628\n",
      "fx_plus_delta : 2235.5607519353275\n",
      "minus -> x[idx] : 0.5040475302736628\n",
      "fx_minus_delta : 2235.5777893637064\n",
      "plus -> x[idx] : 1.1365594693526815\n",
      "fx_plus_delta : 2234.703835222462\n",
      "minus -> x[idx] : 1.1363594693526815\n",
      "fx_minus_delta : 2234.9834861118406\n",
      "plus -> x[idx] : 0.5127662444631121\n",
      "fx_plus_delta : 2043.9644692821118\n",
      "minus -> x[idx] : 0.5125662444631122\n",
      "fx_minus_delta : 2043.9807959507546\n",
      "[[24.77024295]]\n"
     ]
    },
    {
     "data": {
      "image/png": "[encoded data removed]",
      "text/plain": [
       "<Figure size 432x288 with 1 Axes>"
      ]
     },
     "metadata": {
      "needs_background": "light"
     },
     "output_type": "display_data"
    }
   ],
   "source": [
    "# Linear Regression Model의 이론적인 부분을 살펴보았으니\n",
    "# 해당 내용을 Python으로 구현해 보아요!!\n",
    "\n",
    "import numpy as np\n",
    "import matplotlib.pyplot as plt\n",
    "\n",
    "# Training Data Set\n",
    "x_data = np.array([1,2,3,4,5,7,8,10,12,13,14,15,18,20,25,28,30]).reshape(-1,1)\n",
    "t_data = np.array([5,7,20,31,40,44,46,49,60,62,70,80,85,91,92,97,98]).reshape(-1,1)\n",
    "\n",
    "# Linear Regression Model을 정의\n",
    "W = np.random.rand(1,1)  # matrix\n",
    "b = np.random.rand(1)    # scalar\n",
    "\n",
    "# loss function\n",
    "def loss_func(x,t):\n",
    "    \n",
    "    y = np.dot(x,W) + b\n",
    "    \n",
    "    return np.mean(np.power((t-y),2))    # 최소제곱법\n",
    "\n",
    "# 미분함수\n",
    "def numerical_derivative(f,x):\n",
    "    \n",
    "    delta_x = 1e-4\n",
    "    derivative_x = np.zeros_like(x)  # 미분한 결과를 저장하는 ndarray\n",
    "    \n",
    "    it = np.nditer(x, flags=['multi_index'])\n",
    "    \n",
    "    while not it.finished:\n",
    "        \n",
    "        idx = it.multi_index   # iterator의 현재 index를 추출(tuple로 추출)\n",
    "        \n",
    "        tmp = x[idx]  \n",
    "        \n",
    "        x[idx] = tmp + delta_x\n",
    "        print('plus -> x[idx] : {}'.format(x[idx]))\n",
    "        fx_plus_delta = f(x)  # f(x + delta_x)\n",
    "        print('fx_plus_delta : {}'.format(fx_plus_delta))\n",
    "        \n",
    "        x[idx] = tmp - delta_x\n",
    "        print('minus -> x[idx] : {}'.format(x[idx]))\n",
    "        fx_minus_delta = f(x) # f(x - delta_x)\n",
    "        print('fx_minus_delta : {}'.format(fx_minus_delta))\n",
    "        \n",
    "    \n",
    "        derivative_x[idx] = (fx_plus_delta - fx_minus_delta) / (2 * delta_x)\n",
    "        \n",
    "        x[idx] = tmp  # 데이터를 원상 복구\n",
    "        \n",
    "        it.iternext()\n",
    "    \n",
    "    return derivative_x\n",
    "\n",
    "# prediction\n",
    "def predict(x):\n",
    "    \n",
    "    return np.dot(x,W) + b   # Hypothesis, Linear Regression Model\n",
    "\n",
    "\n",
    "learning_rate = 0.0001\n",
    "\n",
    "f = lambda x : loss_func(x_data,t_data)\n",
    "\n",
    "\n",
    "# 학습을 진행!!\n",
    "# 반복해서 학습을 진행..(W와 b를 update하면서 반복적으로 학습을 진행!)\n",
    "for step in range(5):\n",
    "    \n",
    "    W = W - learning_rate * numerical_derivative(f,W)  # W의 편미분\n",
    "    b = b - learning_rate * numerical_derivative(f,b)  # b의 편미분\n",
    "    \n",
    "    if step % 9000 == 0:\n",
    "        print('W : {}, b : {}, loss : {}'.format(W,b,loss_func(x_data,t_data)))\n",
    "        \n",
    "\n",
    "# 학습종료 후 예측\n",
    "print(predict(19))\n",
    "\n",
    "# 데이터의 분포를 scatter로 확인\n",
    "plt.scatter(x_data.ravel(),t_data.ravel())\n",
    "plt.plot(x_data.ravel(), np.dot(x_data,W) + b)  # 직선\n",
    "plt.show()"
   ]
  },
  {
   "cell_type": "code",
   "execution_count": 13,
   "metadata": {},
   "outputs": [
    {
     "name": "stdout",
     "output_type": "stream",
     "text": [
      "plus -> x[idx] : 0.9745724426612338\n",
      "plus -> x : [[0.97457244]]\n",
      "W :  [[0.97457244]]\n",
      "b :  [0.14851991]\n",
      "fx_plus_delta : 2500.0614052019732\n",
      "minus -> x[idx] : 0.9743724426612338\n",
      "W :  [[0.97437244]]\n",
      "b :  [0.14851991]\n",
      "fx_minus_delta : 2500.35827748227\n",
      "[[-1484.36140148]]\n"
     ]
    }
   ],
   "source": [
    "import numpy as np\n",
    "\n",
    "# Training Data Set\n",
    "x_data = np.array([1,2,3,4,5,7,8,10,12,13,14,15,18,20,25,28,30]).reshape(-1,1)\n",
    "t_data = np.array([5,7,20,31,40,44,46,49,60,62,70,80,85,91,92,97,98]).reshape(-1,1)\n",
    "\n",
    "# Linear Regression Model을 정의\n",
    "W = np.random.rand(1,1)  # matrix\n",
    "b = np.random.rand(1)    # scalar\n",
    "\n",
    "# loss function\n",
    "def loss_func(x,t):\n",
    "    \n",
    "    y = np.dot(x,W) + b\n",
    "    print('W : ', W)\n",
    "    print('b : ', b)\n",
    "    return np.mean(np.power((t-y),2))    # 최소제곱법\n",
    "\n",
    "# 미분함수\n",
    "def numerical_derivative(f,x):\n",
    "    \n",
    "    delta_x = 1e-4\n",
    "    derivative_x = np.zeros_like(x)  # 미분한 결과를 저장하는 ndarray\n",
    "    \n",
    "    it = np.nditer(x, flags=['multi_index'])\n",
    "    \n",
    "    while not it.finished:\n",
    "        \n",
    "        idx = it.multi_index   # iterator의 현재 index를 추출(tuple로 추출)\n",
    "        \n",
    "        tmp = x[idx]  \n",
    "        \n",
    "        x[idx] = tmp + delta_x\n",
    "        print('plus -> x[idx] : {}'.format(x[idx]))\n",
    "        print('plus -> x : {}'.format(x))\n",
    "\n",
    "        fx_plus_delta = f(x)  # f(x + delta_x)\n",
    "        print('fx_plus_delta : {}'.format(fx_plus_delta))\n",
    "        \n",
    "        x[idx] = tmp - delta_x\n",
    "        print('minus -> x[idx] : {}'.format(x[idx]))\n",
    "        fx_minus_delta = f(x) # f(x - delta_x)\n",
    "        print('fx_minus_delta : {}'.format(fx_minus_delta))\n",
    "        \n",
    "    \n",
    "        derivative_x[idx] = (fx_plus_delta - fx_minus_delta) / (2 * delta_x)\n",
    "        \n",
    "        x[idx] = tmp  # 데이터를 원상 복구\n",
    "        \n",
    "        it.iternext()\n",
    "    \n",
    "    return derivative_x\n",
    "\n",
    "f = lambda x : loss_func(x_data,t_data)\n",
    "\n",
    "print(numerical_derivative(f,W))"
   ]
  },
  {
   "cell_type": "code",
   "execution_count": null,
   "metadata": {},
   "outputs": [],
   "source": [
    "# Simple Linear Regression 예제 작성 ( 온도 & 오존량 )\n",
    "# 생각보다 잘 학습이 안되고.. 예측값도 엉망이예요\n",
    "# sklearn을 이용해서 학습시키고 그 결과를 우리가 작성한 것과 비교!!\n",
    "\n",
    "# 데이터의 전처리가 미흡했기 때문에 그런거 같아요!\n",
    "# 1. 결측치 처리\n",
    "# 2. 이상치 처리(tukey outlier, z-score)\n",
    "# 3. 정규화 처리(Normalization)\n",
    "# 4. 학습에 필요한 feature들을 선별해서 조금 더 학습이 잘 이루어지도록\n",
    "#    새로운 feature를 만들어서 학습에 응용하는 작업.\n"
   ]
  },
  {
   "cell_type": "code",
   "execution_count": 18,
   "metadata": {
    "scrolled": false
   },
   "outputs": [
    {
     "name": "stdout",
     "output_type": "stream",
     "text": [
      "(116, 2)\n",
      "(113, 2)\n",
      "(107, 2)\n",
      "W : [[0.84328259]], b : [0.23334139], loss : 1231.4016870476814\n",
      "W : [[0.50538306]], b : [0.1225134], loss : 528.3854749418643\n",
      "W : [[0.50674316]], b : [0.01555718], loss : 528.0040997421423\n",
      "W : [[0.50810219]], b : [-0.09131493], loss : 527.6233241383384\n",
      "W : [[0.50946015]], b : [-0.19810299], loss : 527.2431471877712\n",
      "W : [[0.51081704]], b : [-0.30480708], loss : 526.8635679492443\n",
      "W : [[0.51217286]], b : [-0.41142725], loss : 526.4845854830337\n",
      "W : [[0.51352762]], b : [-0.51796357], loss : 526.1061988509018\n",
      "W : [[0.51488132]], b : [-0.62441612], loss : 525.7284071160807\n",
      "W : [[0.51623395]], b : [-0.73078495], loss : 525.3512093432745\n"
     ]
    },
    {
     "data": {
      "image/png": "[encoded data removed]",
      "text/plain": [
       "<Figure size 432x288 with 1 Axes>"
      ]
     },
     "metadata": {
      "needs_background": "light"
     },
     "output_type": "display_data"
    },
    {
     "name": "stdout",
     "output_type": "stream",
     "text": [
      "[[31.25323914]]\n"
     ]
    }
   ],
   "source": [
    "# 필요한 module import\n",
    "import numpy as np\n",
    "import pandas as pd\n",
    "from my_library.machine_learning_library import numerical_derivative\n",
    "import matplotlib.pyplot as plt\n",
    "from scipy import stats\n",
    "\n",
    "# Raw Data Loading\n",
    "df = pd.read_csv('./data/ozone.csv')\n",
    "training_data = df[['Temp','Ozone']]\n",
    "training_data = training_data.dropna(how='any')\n",
    "print(training_data.shape)   # (116, 2)\n",
    "\n",
    "# 이상치 처리\n",
    "zscore_threshold = 2.0  # 97.7 % 이상, 2.3% 이하인 값들을 이상치로 판별.\n",
    "# outlier를 출력\n",
    "# Temp에 대한 이상치(지대점)를 확인하고 제거\n",
    "outliers = training_data['Temp'][np.abs(stats.zscore(training_data['Temp'])) > zscore_threshold]\n",
    "\n",
    "training_data = training_data.loc[~training_data['Temp'].isin(outliers)]\n",
    "print(training_data.shape)\n",
    "\n",
    "# Ozone에 대한 이상치(outlier)를 확인하고 제거\n",
    "outliers = training_data['Ozone'][np.abs(stats.zscore(training_data['Ozone'])) > zscore_threshold]\n",
    "\n",
    "training_data = training_data.loc[~training_data['Ozone'].isin(outliers)]\n",
    "print(training_data.shape)\n",
    "\n",
    "\n",
    "# Training Data Set\n",
    "x_data = training_data['Temp'].values.reshape(-1,1)\n",
    "t_data = training_data['Ozone'].values.reshape(-1,1)\n",
    "\n",
    "# Weight & bias\n",
    "W = np.random.rand(1,1)\n",
    "b = np.random.rand(1)\n",
    "\n",
    "# loss function\n",
    "def loss_func(x,t):\n",
    "    y = np.dot(x,W) + b\n",
    "    return np.mean(np.power((t-y),2))\n",
    "\n",
    "def predict(x):\n",
    "    \n",
    "    return np.dot(x,W) + b\n",
    "\n",
    "# learning_rate\n",
    "learning_rate = 1e-5\n",
    "f = lambda x : loss_func(x_data,t_data)\n",
    "\n",
    "# 학습을 진행\n",
    "\n",
    "for step in range(30000):\n",
    "    \n",
    "    W -= learning_rate * numerical_derivative(f,W)\n",
    "    b -= learning_rate * numerical_derivative(f,b)\n",
    "    \n",
    "    if step % 3000 == 0:\n",
    "        print('W : {}, b : {}, loss : {}'.format(W,b,loss_func(x_data,t_data)))\n",
    "\n",
    "plt.scatter(x_data,t_data)\n",
    "plt.plot(x_data, np.dot(x_data,W) + b, color='r')\n",
    "plt.show()\n",
    "\n",
    "print(predict(62))  # [[31.25323914]]  적절하지 않아요!!\n"
   ]
  },
  {
   "cell_type": "code",
   "execution_count": 20,
   "metadata": {},
   "outputs": [],
   "source": [
    "# 데이터가 가진 feature들의 scale이 심하게 차이나는 경우 이를 \n",
    "# 조정해 줘야 해요 => 정규화(Normalization)\n",
    "\n",
    "# 집에 대한 데이터가 있어요!\n",
    "# 집에 대한 feature가 2개가 있어요!\n",
    "# 하나는 방의 개수 ( 1, 2, 3, 4, 5, ... 20 ) 1 ~ 20 차이가 숫자차이는 크지않지만\n",
    "# 집의 연식(월) (12, 24, ... 120, 240,...)  12 ~ 240 \n",
    "\n",
    "# 각 feauture들에 대해 동일한 scale을 적용할 필요가 있어요! ( 0 ~ 1사이로 )\n",
    "\n",
    "# Min-Max Normalization (정규화)\n",
    "# Standardization - Z-Score Normalization (표준화)\n",
    "\n",
    "# Min-Max Normalization\n",
    "# 데이터를 정규화하는 가장 일반적인 방법\n",
    "# 모든 feature들에 대해 최소값 0 ~ 최대값 1로 scaling(변환)\n",
    "\n",
    "# Z-Score Normalization(Standardization)\n",
    "# 평균과 분산을 이용한 scaling => 이상치에 덜 민감, 하지만\n",
    "# 모든 feature에 동일한 척도를 제공하지 못한다는 단점."
   ]
  },
  {
   "cell_type": "code",
   "execution_count": 54,
   "metadata": {},
   "outputs": [
    {
     "name": "stdout",
     "output_type": "stream",
     "text": [
      "(116, 2)\n",
      "(113, 2)\n",
      "(107, 2)\n",
      "W : [[0.50344515]], b : [0.33430897], loss : 0.08962562880728932\n",
      "W : [[0.49391377]], b : [0.10021245], loss : 0.029558993511302294\n",
      "W : [[0.56140985]], b : [0.06450345], loss : 0.027603020514978135\n",
      "W : [[0.61259992]], b : [0.03751266], loss : 0.026479621581874873\n",
      "W : [[0.65139468]], b : [0.01705754], loss : 0.02583440088266536\n",
      "W : [[0.68079555]], b : [0.00155549], loss : 0.025463820371703083\n",
      "W : [[0.7030772]], b : [-0.01019284], loss : 0.025250978602563885\n",
      "W : [[0.7199635]], b : [-0.0190964], loss : 0.025128733591425336\n",
      "W : [[0.7327609]], b : [-0.02584402], loss : 0.025058522547753256\n",
      "W : [[0.74245949]], b : [-0.03095775], loss : 0.025018197052196368\n"
     ]
    },
    {
     "data": {
      "image/png": "[encoded data removed]",
      "text/plain": [
       "<Figure size 432x288 with 1 Axes>"
      ]
     },
     "metadata": {
      "needs_background": "light"
     },
     "output_type": "display_data"
    },
    {
     "name": "stdout",
     "output_type": "stream",
     "text": [
      "[[46.45335111]]\n"
     ]
    }
   ],
   "source": [
    "# 필요한 module import\n",
    "import numpy as np\n",
    "import pandas as pd\n",
    "from my_library.machine_learning_library import numerical_derivative\n",
    "import matplotlib.pyplot as plt\n",
    "from scipy import stats\n",
    "from sklearn.preprocessing import MinMaxScaler\n",
    "\n",
    "# Raw Data Loading\n",
    "df = pd.read_csv('./data/ozone.csv')\n",
    "training_data = df[['Temp','Ozone']]\n",
    "training_data = training_data.dropna(how='any')\n",
    "print(training_data.shape)   # (116, 2)\n",
    "\n",
    "# 이상치 처리\n",
    "zscore_threshold = 2.0  # 97.7 % 이상, 2.3% 이하인 값들을 이상치로 판별.\n",
    "# outlier를 출력\n",
    "# Temp에 대한 이상치(지대점)를 확인하고 제거\n",
    "outliers = training_data['Temp'][np.abs(stats.zscore(training_data['Temp'])) > zscore_threshold]\n",
    "\n",
    "training_data = training_data.loc[~training_data['Temp'].isin(outliers)]\n",
    "print(training_data.shape)\n",
    "\n",
    "# Ozone에 대한 이상치(outlier)를 확인하고 제거\n",
    "outliers = training_data['Ozone'][np.abs(stats.zscore(training_data['Ozone'])) > zscore_threshold]\n",
    "\n",
    "training_data = training_data.loc[~training_data['Ozone'].isin(outliers)]\n",
    "print(training_data.shape)\n",
    "\n",
    "# 정규화처리!!\n",
    "# 직접구현해도 되지만 sklearn을 이용하세요!!\n",
    "\n",
    "# 독립변수와 종속변수의 scaler객체를 각각 생성\n",
    "scaler_x = MinMaxScaler()  # MinMaxScaler 클래스의 객체를 생성!\n",
    "scaler_t = MinMaxScaler()  # MinMaxScaler 클래스의 객체를 생성!\n",
    "\n",
    "\n",
    "scaler_x.fit(training_data['Temp'].values.reshape(-1,1))\n",
    "scaler_t.fit(training_data['Ozone'].values.reshape(-1,1))\n",
    "\n",
    "training_data['Temp'] = scaler_x.transform(training_data['Temp'].values.reshape(-1,1))\n",
    "training_data['Ozone'] = scaler_t.transform(training_data['Ozone'].values.reshape(-1,1))\n",
    "\n",
    "# print(training_data['Temp'].values)\n",
    "# print(training_data['Ozone'].values)\n",
    "\n",
    "# Training Data Set\n",
    "x_data = training_data['Temp'].values.reshape(-1,1)\n",
    "t_data = training_data['Ozone'].values.reshape(-1,1)\n",
    "\n",
    "# Weight & bias\n",
    "W = np.random.rand(1,1)\n",
    "b = np.random.rand(1)\n",
    "\n",
    "# loss function\n",
    "def loss_func(x,t):\n",
    "    y = np.dot(x,W) + b\n",
    "    return np.mean(np.power((t-y),2))\n",
    "\n",
    "def predict(x):\n",
    "    \n",
    "    return np.dot(x,W) + b\n",
    "\n",
    "# learning_rate\n",
    "learning_rate = 1e-4\n",
    "f = lambda x : loss_func(x_data,t_data)\n",
    "\n",
    "# 학습을 진행\n",
    "\n",
    "for step in range(300000):\n",
    "    \n",
    "    W -= learning_rate * numerical_derivative(f,W)\n",
    "    b -= learning_rate * numerical_derivative(f,b)\n",
    "    \n",
    "    if step % 30000 == 0:\n",
    "        print('W : {}, b : {}, loss : {}'.format(W,b,loss_func(x_data,t_data)))\n",
    "\n",
    "plt.scatter(x_data,t_data)\n",
    "plt.plot(x_data, np.dot(x_data,W) + b, color='r')\n",
    "plt.show()\n",
    "\n",
    "print(predict(62))  # [[31.25323914]]  적절하지 않아요!!\n",
    "                    # [[37.91858546]]  ??\n",
    "                    # [[3.58411393]]  sklearn의 결과!!\n",
    "                    # [[3.77796057]]"
   ]
  },
  {
   "cell_type": "code",
   "execution_count": 55,
   "metadata": {},
   "outputs": [
    {
     "name": "stdout",
     "output_type": "stream",
     "text": [
      "[[0.08108108]]\n",
      "예측된 Ozone량은 : [[3.77796057]]\n"
     ]
    }
   ],
   "source": [
    "predict_data = np.array([62])\n",
    "scaled_predict_data = scaler_x.transform(predict_data.reshape(-1,1))\n",
    "print(scaled_predict_data)\n",
    "\n",
    "scaled_result = predict(scaled_predict_data)  # 예측결과\n",
    "result = scaler_t.inverse_transform(scaled_result)\n",
    "print('예측된 Ozone량은 : {}'.format(result))"
   ]
  },
  {
   "cell_type": "code",
   "execution_count": 58,
   "metadata": {
    "scrolled": true
   },
   "outputs": [
    {
     "name": "stdout",
     "output_type": "stream",
     "text": [
      "(111, 6)\n",
      "(96, 6)\n"
     ]
    },
    {
     "ename": "ValueError",
     "evalue": "shapes (96,5) and (3,1) not aligned: 5 (dim 1) != 3 (dim 0)",
     "output_type": "error",
     "traceback": [
      "\u001b[1;31m---------------------------------------------------------------------------\u001b[0m",
      "\u001b[1;31mValueError\u001b[0m                                Traceback (most recent call last)",
      "\u001b[1;32m<ipython-input-58-ef6244273be7>\u001b[0m in \u001b[0;36m<module>\u001b[1;34m\u001b[0m\n\u001b[0;32m     68\u001b[0m \u001b[1;32mfor\u001b[0m \u001b[0mstep\u001b[0m \u001b[1;32min\u001b[0m \u001b[0mrange\u001b[0m\u001b[1;33m(\u001b[0m\u001b[1;36m300000\u001b[0m\u001b[1;33m)\u001b[0m\u001b[1;33m:\u001b[0m\u001b[1;33m\u001b[0m\u001b[1;33m\u001b[0m\u001b[0m\n\u001b[0;32m     69\u001b[0m \u001b[1;33m\u001b[0m\u001b[0m\n\u001b[1;32m---> 70\u001b[1;33m     \u001b[0mW\u001b[0m \u001b[1;33m-=\u001b[0m \u001b[0mlearning_rate\u001b[0m \u001b[1;33m*\u001b[0m \u001b[0mnumerical_derivative\u001b[0m\u001b[1;33m(\u001b[0m\u001b[0mf\u001b[0m\u001b[1;33m,\u001b[0m\u001b[0mW\u001b[0m\u001b[1;33m)\u001b[0m\u001b[1;33m\u001b[0m\u001b[1;33m\u001b[0m\u001b[0m\n\u001b[0m\u001b[0;32m     71\u001b[0m     \u001b[0mb\u001b[0m \u001b[1;33m-=\u001b[0m \u001b[0mlearning_rate\u001b[0m \u001b[1;33m*\u001b[0m \u001b[0mnumerical_derivative\u001b[0m\u001b[1;33m(\u001b[0m\u001b[0mf\u001b[0m\u001b[1;33m,\u001b[0m\u001b[0mb\u001b[0m\u001b[1;33m)\u001b[0m\u001b[1;33m\u001b[0m\u001b[1;33m\u001b[0m\u001b[0m\n\u001b[0;32m     72\u001b[0m \u001b[1;33m\u001b[0m\u001b[0m\n",
      "\u001b[1;32mC:\\my_library\\machine_learning_library.py\u001b[0m in \u001b[0;36mnumerical_derivative\u001b[1;34m(f, x)\u001b[0m\n\u001b[0;32m     19\u001b[0m \u001b[1;33m\u001b[0m\u001b[0m\n\u001b[0;32m     20\u001b[0m         \u001b[0mx\u001b[0m\u001b[1;33m[\u001b[0m\u001b[0midx\u001b[0m\u001b[1;33m]\u001b[0m \u001b[1;33m=\u001b[0m \u001b[0mtmp\u001b[0m \u001b[1;33m+\u001b[0m \u001b[0mdelta_x\u001b[0m\u001b[1;33m\u001b[0m\u001b[1;33m\u001b[0m\u001b[0m\n\u001b[1;32m---> 21\u001b[1;33m         \u001b[0mfx_plus_delta\u001b[0m \u001b[1;33m=\u001b[0m \u001b[0mf\u001b[0m\u001b[1;33m(\u001b[0m\u001b[0mx\u001b[0m\u001b[1;33m)\u001b[0m  \u001b[1;31m# f(x + delta_x)\u001b[0m\u001b[1;33m\u001b[0m\u001b[1;33m\u001b[0m\u001b[0m\n\u001b[0m\u001b[0;32m     22\u001b[0m \u001b[1;33m\u001b[0m\u001b[0m\n\u001b[0;32m     23\u001b[0m         \u001b[0mx\u001b[0m\u001b[1;33m[\u001b[0m\u001b[0midx\u001b[0m\u001b[1;33m]\u001b[0m \u001b[1;33m=\u001b[0m \u001b[0mtmp\u001b[0m \u001b[1;33m-\u001b[0m \u001b[0mdelta_x\u001b[0m\u001b[1;33m\u001b[0m\u001b[1;33m\u001b[0m\u001b[0m\n",
      "\u001b[1;32m<ipython-input-58-ef6244273be7>\u001b[0m in \u001b[0;36m<lambda>\u001b[1;34m(x)\u001b[0m\n\u001b[0;32m     62\u001b[0m \u001b[1;31m# learning_rate\u001b[0m\u001b[1;33m\u001b[0m\u001b[1;33m\u001b[0m\u001b[1;33m\u001b[0m\u001b[0m\n\u001b[0;32m     63\u001b[0m \u001b[0mlearning_rate\u001b[0m \u001b[1;33m=\u001b[0m \u001b[1;36m1e-4\u001b[0m\u001b[1;33m\u001b[0m\u001b[1;33m\u001b[0m\u001b[0m\n\u001b[1;32m---> 64\u001b[1;33m \u001b[0mf\u001b[0m \u001b[1;33m=\u001b[0m \u001b[1;32mlambda\u001b[0m \u001b[0mx\u001b[0m \u001b[1;33m:\u001b[0m \u001b[0mloss_func\u001b[0m\u001b[1;33m(\u001b[0m\u001b[0mx_data\u001b[0m\u001b[1;33m,\u001b[0m\u001b[0mt_data\u001b[0m\u001b[1;33m)\u001b[0m\u001b[1;33m\u001b[0m\u001b[1;33m\u001b[0m\u001b[0m\n\u001b[0m\u001b[0;32m     65\u001b[0m \u001b[1;33m\u001b[0m\u001b[0m\n\u001b[0;32m     66\u001b[0m \u001b[1;31m# 학습을 진행\u001b[0m\u001b[1;33m\u001b[0m\u001b[1;33m\u001b[0m\u001b[1;33m\u001b[0m\u001b[0m\n",
      "\u001b[1;32m<ipython-input-58-ef6244273be7>\u001b[0m in \u001b[0;36mloss_func\u001b[1;34m(x, t)\u001b[0m\n\u001b[0;32m     53\u001b[0m \u001b[1;31m# loss function\u001b[0m\u001b[1;33m\u001b[0m\u001b[1;33m\u001b[0m\u001b[1;33m\u001b[0m\u001b[0m\n\u001b[0;32m     54\u001b[0m \u001b[1;32mdef\u001b[0m \u001b[0mloss_func\u001b[0m\u001b[1;33m(\u001b[0m\u001b[0mx\u001b[0m\u001b[1;33m,\u001b[0m\u001b[0mt\u001b[0m\u001b[1;33m)\u001b[0m\u001b[1;33m:\u001b[0m\u001b[1;33m\u001b[0m\u001b[1;33m\u001b[0m\u001b[0m\n\u001b[1;32m---> 55\u001b[1;33m     \u001b[0my\u001b[0m \u001b[1;33m=\u001b[0m \u001b[0mnp\u001b[0m\u001b[1;33m.\u001b[0m\u001b[0mdot\u001b[0m\u001b[1;33m(\u001b[0m\u001b[0mx\u001b[0m\u001b[1;33m,\u001b[0m\u001b[0mW\u001b[0m\u001b[1;33m)\u001b[0m \u001b[1;33m+\u001b[0m \u001b[0mb\u001b[0m\u001b[1;33m\u001b[0m\u001b[1;33m\u001b[0m\u001b[0m\n\u001b[0m\u001b[0;32m     56\u001b[0m     \u001b[1;32mreturn\u001b[0m \u001b[0mnp\u001b[0m\u001b[1;33m.\u001b[0m\u001b[0mmean\u001b[0m\u001b[1;33m(\u001b[0m\u001b[0mnp\u001b[0m\u001b[1;33m.\u001b[0m\u001b[0mpower\u001b[0m\u001b[1;33m(\u001b[0m\u001b[1;33m(\u001b[0m\u001b[0mt\u001b[0m\u001b[1;33m-\u001b[0m\u001b[0my\u001b[0m\u001b[1;33m)\u001b[0m\u001b[1;33m,\u001b[0m\u001b[1;36m2\u001b[0m\u001b[1;33m)\u001b[0m\u001b[1;33m)\u001b[0m\u001b[1;33m\u001b[0m\u001b[1;33m\u001b[0m\u001b[0m\n\u001b[0;32m     57\u001b[0m \u001b[1;33m\u001b[0m\u001b[0m\n",
      "\u001b[1;32m<__array_function__ internals>\u001b[0m in \u001b[0;36mdot\u001b[1;34m(*args, **kwargs)\u001b[0m\n",
      "\u001b[1;31mValueError\u001b[0m: shapes (96,5) and (3,1) not aligned: 5 (dim 1) != 3 (dim 0)"
     ]
    }
   ],
   "source": [
    "# 필요한 module import\n",
    "import numpy as np\n",
    "import pandas as pd\n",
    "from my_library.machine_learning_library import numerical_derivative\n",
    "import matplotlib.pyplot as plt\n",
    "from scipy import stats\n",
    "from sklearn.preprocessing import MinMaxScaler\n",
    "\n",
    "# Raw Data Loading\n",
    "df = pd.read_csv('./data/ozone.csv')\n",
    "training_data = df\n",
    "training_data = training_data.dropna(how='any')\n",
    "print(training_data.shape)   # (116, 2)\n",
    "\n",
    "# 이상치 처리\n",
    "zscore_threshold = 2.0  # 97.7 % 이상, 2.3% 이하인 값들을 이상치로 판별.\n",
    "# outlier를 출력\n",
    "\n",
    "# 각 column의 이상치를 확인하고 제거\n",
    "for col in training_data.columns:\n",
    "    outliers = training_data[col][np.abs(stats.zscore(training_data[col])) > zscore_threshold]\n",
    "    training_data = training_data.loc[~training_data[col].isin(outliers)]\n",
    "\n",
    "print(training_data.shape)\n",
    "\n",
    "# 정규화처리!!\n",
    "# 직접구현해도 되지만 sklearn을 이용하세요!!\n",
    "\n",
    "# 독립변수와 종속변수의 scaler객체를 각각 생성\n",
    "scaler_x = MinMaxScaler()  # MinMaxScaler 클래스의 객체를 생성!\n",
    "scaler_t = MinMaxScaler()  # MinMaxScaler 클래스의 객체를 생성!\n",
    "\n",
    "training_data_x = training_data.iloc[:,:-1]\n",
    "training_data_t = training_data['Ozone'].values.reshape(-1,1)\n",
    "\n",
    "scaler_x.fit(training_data_x)\n",
    "scaler_t.fit(training_data_t)\n",
    "\n",
    "training_data_x = scaler_x.transform(training_data_x)\n",
    "training_data_t = scaler_t.transform(training_data_t)\n",
    "\n",
    "# print(training_data_x)\n",
    "# print(training_data_t)\n",
    "\n",
    "# Training Data Set\n",
    "x_data = training_data_x\n",
    "t_data = training_data_t\n",
    "\n",
    "# Weight & bias\n",
    "W = np.random.rand(3,1)\n",
    "b = np.random.rand(1)\n",
    "\n",
    "# loss function\n",
    "def loss_func(x,t):\n",
    "    y = np.dot(x,W) + b\n",
    "    return np.mean(np.power((t-y),2))\n",
    "\n",
    "def predict(x):\n",
    "    \n",
    "    return np.dot(x,W) + b\n",
    "\n",
    "# learning_rate\n",
    "learning_rate = 1e-4\n",
    "f = lambda x : loss_func(x_data,t_data)\n",
    "\n",
    "# 학습을 진행\n",
    "\n",
    "for step in range(300000):\n",
    "    \n",
    "    W -= learning_rate * numerical_derivative(f,W)\n",
    "    b -= learning_rate * numerical_derivative(f,b)\n",
    "    \n",
    "    if step % 30000 == 0:\n",
    "        print('W : {}, b : {}, loss : {}'.format(W,b,loss_func(x_data,t_data)))\n",
    "\n",
    "\n",
    "predict_val = nd.array([200,10,70]).reshape(-1,3)\n",
    "print(predict(predict_val))  "
   ]
  },
  {
   "cell_type": "code",
   "execution_count": 63,
   "metadata": {},
   "outputs": [
    {
     "name": "stdout",
     "output_type": "stream",
     "text": [
      "1.15.0\n",
      "Hello World\n"
     ]
    }
   ],
   "source": [
    "# Tensorflow를 이용한 Linear Regression \n",
    "# Tensorflow를 설치해야 해요!!\n",
    "# Tensorflow는 버전이 1.x 2.x 버전이 있어요!\n",
    "# pip install tensorflow==1.15\n",
    "import tensorflow as tf\n",
    "\n",
    "print(tf.__version__)\n",
    "\n",
    "node = tf.constant('Hello World')  # Node를 생성했어요! \n",
    "\n",
    "# 우리가 만든 Graph를 실행하기 위해서 Session이 필요!\n",
    "sess = tf.Session()\n",
    "\n",
    "# runner인 session이 생성되었으니 이걸 이용해서 node를 실행해 보아요!\n",
    "print(sess.run(node).decode())"
   ]
  },
  {
   "cell_type": "code",
   "execution_count": 65,
   "metadata": {},
   "outputs": [
    {
     "name": "stdout",
     "output_type": "stream",
     "text": [
      "[30.0, 20.0]\n"
     ]
    }
   ],
   "source": [
    "import tensorflow as tf\n",
    "\n",
    "# node를 2개 만들어요!\n",
    "node1 = tf.constant(10, dtype=tf.float32)\n",
    "node2 = tf.constant(20, dtype=tf.float32)\n",
    "\n",
    "node3 = node1 + node2\n",
    "\n",
    "sess = tf.Session()\n",
    "\n",
    "print(sess.run([node3,node2]))"
   ]
  },
  {
   "cell_type": "code",
   "execution_count": 68,
   "metadata": {},
   "outputs": [
    {
     "name": "stdout",
     "output_type": "stream",
     "text": [
      "60.0\n"
     ]
    }
   ],
   "source": [
    "# placeholder를 이용\n",
    "# 2개의 수를 입력으로 받아서 덧셈연산을 수행\n",
    "import tensorflow as tf\n",
    "\n",
    "node1 = tf.placeholder(dtype=tf.float32)  # scalar 형태의 값 1개를 실수로 받아들일 수\n",
    "                                          # 있는 placeholder\n",
    "    \n",
    "node2 = tf.placeholder(dtype=tf.float32)  \n",
    "\n",
    "node3 = node1 + node2\n",
    "\n",
    "sess = tf.Session()\n",
    "\n",
    "print(sess.run(node3, feed_dict={ node1 : 20, node2 : 40}))"
   ]
  },
  {
   "cell_type": "code",
   "execution_count": 72,
   "metadata": {},
   "outputs": [
    {
     "name": "stdout",
     "output_type": "stream",
     "text": [
      "W : [1.6719669], b : [0.17716354], loss : 26.30231285095215\n",
      "W : [2.1277084], b : [2.119448], loss : 0.1488063633441925\n",
      "W : [2.0413737], b : [2.7147315], loss : 0.015617767348885536\n",
      "W : [2.0134056], b : [2.9075742], loss : 0.0016394543927162886\n",
      "W : [2.004344], b : [2.970047], loss : 0.0001721871958579868\n",
      "W : [2.001409], b : [2.9902904], loss : 1.8094966435455717e-05\n",
      "W : [2.000458], b : [2.996838], loss : 1.9190954390069237e-06\n",
      "W : [2.0001488], b : [2.9989796], loss : 1.9986146071460098e-07\n",
      "W : [2.0000525], b : [2.9996467], loss : 2.4012525301486676e-08\n",
      "W : [2.0000525], b : [2.9996467], loss : 2.4012525301486676e-08\n",
      "[ 6.9997516 10.999857  12.999908  17.000013  23.000172 ]\n"
     ]
    }
   ],
   "source": [
    "import tensorflow as tf\n",
    "\n",
    "# 1. Raw Data Loading\n",
    "# 2. Data Preprocessing(데이터전처리)\n",
    "\n",
    "# 3. Training Data Set\n",
    "x_data = [2,4,5,7,10]\n",
    "t_data = [7,11,13,17,23]\n",
    "\n",
    "# 4. Weight & bias\n",
    "W = tf.Variable(tf.random.normal([1]), name='weight')   # W = np.random.rand(1,1)\n",
    "b = tf.Variable(tf.random.normal([1]), name='bias')     # b = np.random.rand(1) \n",
    "\n",
    "# 5. Hypothesis, Simple Linear Regression Model\n",
    "H = W * x_data + b\n",
    "\n",
    "# 6. Loss function\n",
    "loss = tf.reduce_mean(tf.square(t_data-H))\n",
    "\n",
    "# 7. train node 생성\n",
    "optimizer = tf.train.GradientDescentOptimizer(learning_rate=0.001)\n",
    "train = optimizer.minimize(loss)\n",
    "\n",
    "# 8. 실행준비 및 초기화작업\n",
    "sess = tf.Session()\n",
    "sess.run(tf.global_variables_initializer())  # 초기화 작업\n",
    "\n",
    "# 9. 반복해서 학습을 진행!!\n",
    "for step in range(30000):\n",
    "    _, W_val, b_val, loss_val = sess.run([train,W,b,loss])\n",
    "    \n",
    "    if step % 3000 == 0:\n",
    "        print('W : {}, b : {}, loss : {}'.format(W_val, b_val,loss_val))\n",
    "        \n",
    "print(sess.run(H))        "
   ]
  },
  {
   "cell_type": "code",
   "execution_count": 4,
   "metadata": {},
   "outputs": [
    {
     "name": "stdout",
     "output_type": "stream",
     "text": [
      "W : [-0.1476565], b : [1.8625599], cost : 31.64093589782715\n",
      "W : [1.7707769], b : [0.82756877], cost : 0.12474270164966583\n",
      "W : [1.9168841], b : [0.30007488], cost : 0.016400806605815887\n",
      "W : [1.9698617], b : [0.10880862], cost : 0.0021564140915870667\n",
      "W : [1.9890689], b : [0.03946014], cost : 0.0002836171188391745\n",
      "W : [1.9960326], b : [0.01431894], cost : 3.734602432814427e-05\n",
      "W : [1.9985571], b : [0.00520185], cost : 4.930253453494515e-06\n",
      "W : [1.9994763], b : [0.00189059], cost : 6.511819492516224e-07\n",
      "W : [1.9998105], b : [0.00068494], cost : 8.541783103055423e-08\n",
      "W : [1.9999266], b : [0.00025945], cost : 1.2331395460307704e-08\n",
      "[11.99991]\n"
     ]
    }
   ],
   "source": [
    "# Tensorflow를 이용해서 간단한게 Simple Linear Regression을 학습하고 \n",
    "# 예측하는 코드를 작성해 보아요!!\n",
    "\n",
    "import tensorflow as tf\n",
    "\n",
    "# 1. Raw Data Loading\n",
    "# 2. Data Preprocessing\n",
    "\n",
    "# 3. Training Data Set\n",
    "x_data = [1,2,3,4,5]\n",
    "t_data = [2,4,6,8,10]\n",
    "\n",
    "# 4. placeholder\n",
    "X = tf.placeholder(dtype=tf.float32)\n",
    "T = tf.placeholder(dtype=tf.float32)\n",
    "\n",
    "# 5. Weight & bias    shape => (3,4)\n",
    "W = tf.Variable(tf.random.normal([1]), name='weight')\n",
    "b = tf.Variable(tf.random.normal([1]), name='bias')\n",
    "\n",
    "# 6. Simple Linear Regression Model(Hypothesis)\n",
    "H = W*X + b\n",
    "\n",
    "# 7. loss function\n",
    "loss = tf.reduce_mean(tf.square(H-T))\n",
    "\n",
    "# 8. train 노드 생성\n",
    "train = tf.train.GradientDescentOptimizer(learning_rate=0.001).minimize(loss)\n",
    "\n",
    "# 9. Session & 초기화\n",
    "sess = tf.Session()\n",
    "sess.run(tf.global_variables_initializer())\n",
    "\n",
    "# 10. 학습을 진행(Graph를 실행)\n",
    "for step in range(30000):\n",
    "    _, W_val, b_val, loss_val = sess.run([train,W,b,loss], feed_dict={X:x_data, T:t_data})\n",
    "    \n",
    "    if step % 3000 == 0:\n",
    "        print('W : {}, b : {}, cost : {}'.format(W_val, b_val, loss_val))\n",
    "        \n",
    "# 11. 내가 알고싶은 값을 넣어서 predict!!\n",
    "print(sess.run(H, feed_dict={X:[6]}))"
   ]
  },
  {
   "cell_type": "code",
   "execution_count": 17,
   "metadata": {
    "scrolled": false
   },
   "outputs": [
    {
     "name": "stdout",
     "output_type": "stream",
     "text": [
      "(96, 4)\n",
      "W : [[ 0.61555284]\n",
      " [ 0.1088241 ]\n",
      " [-1.3175339 ]], b : [1.6133748], cost : 1.3219629526138306\n",
      "W : [[ 0.2849196 ]\n",
      " [-0.46548843]\n",
      " [-0.98839444]], b : [0.9004603], cost : 0.1670384258031845\n",
      "W : [[ 0.26066163]\n",
      " [-0.6217949 ]\n",
      " [-0.5764699 ]], b : [0.7699919], cost : 0.0952785387635231\n",
      "W : [[ 0.23592913]\n",
      " [-0.68355864]\n",
      " [-0.2942878 ]], b : [0.66451], cost : 0.0631057620048523\n",
      "W : [[ 0.21439338]\n",
      " [-0.69336545]\n",
      " [-0.09584489]], b : [0.57728153], cost : 0.047082941979169846\n",
      "W : [[ 0.19714572]\n",
      " [-0.6760264 ]\n",
      " [ 0.04755069]], b : [0.50400764], cost : 0.03816898167133331\n",
      "W : [[ 0.18407048]\n",
      " [-0.6458155 ]\n",
      " [ 0.15397727]], b : [0.44181964], cost : 0.03271197900176048\n",
      "W : [[ 0.17456943]\n",
      " [-0.61078084]\n",
      " [ 0.23497216]], b : [0.38870302], cost : 0.029130546376109123\n",
      "W : [[ 0.16792394]\n",
      " [-0.5753316 ]\n",
      " [ 0.29801485]], b : [0.343169], cost : 0.026672909036278725\n",
      "W : [[ 0.16345619]\n",
      " [-0.5417405 ]\n",
      " [ 0.34804285]], b : [0.3040627], cost : 0.02494122087955475\n",
      "[[53.28268]]\n"
     ]
    }
   ],
   "source": [
    "## 온도, 태양광, 바람에 따른 오존량을 학습해서 예측하는 Multiuple Linear Regression을\n",
    "## Tensorflow로 구현해 보아요!!\n",
    "\n",
    "import tensorflow as tf\n",
    "import numpy as np\n",
    "import pandas as pd\n",
    "from scipy import stats\n",
    "from sklearn.preprocessing import MinMaxScaler\n",
    "\n",
    "# Raw Data Loading\n",
    "df = pd.read_csv('./data/ozone.csv')\n",
    "\n",
    "# Data Preprocessing(데이터 전처리)\n",
    "# 결측치 제거\n",
    "df = df.dropna(how='any')\n",
    "df = df[['Ozone','Solar.R','Wind','Temp']]  # 111 rows × 4 columns\n",
    "\n",
    "# 이상치 처리\n",
    "zscore_threshold = 2.0  # 97.7 % 이상, 2.3% 이하인 값들을 이상치로 판별.\n",
    "\n",
    "# 각 column의 이상치를 확인하고 제거\n",
    "for col in df.columns:\n",
    "    outliers = df[col][np.abs(stats.zscore(df[col])) > zscore_threshold]\n",
    "    df = df.loc[~df[col].isin(outliers)]\n",
    "\n",
    "print(df.shape)   # (96, 4)\n",
    "\n",
    "# 정규화!!\n",
    "# 독립변수와 종속변수의 scaler객체를 각각 생성\n",
    "scaler_x = MinMaxScaler()  # MinMaxScaler 클래스의 객체를 생성!\n",
    "scaler_t = MinMaxScaler()  # MinMaxScaler 클래스의 객체를 생성!\n",
    "\n",
    "training_data_x = df.iloc[:,1:]\n",
    "training_data_t = df['Ozone'].values.reshape(-1,1)\n",
    "\n",
    "scaler_x.fit(training_data_x)\n",
    "scaler_t.fit(training_data_t)\n",
    "\n",
    "training_data_x = scaler_x.transform(training_data_x)\n",
    "training_data_t = scaler_t.transform(training_data_t)\n",
    "\n",
    "# 데이터가 준비되었어요!!\n",
    "\n",
    "# Training Data Set\n",
    "x_data = training_data_x\n",
    "t_data = training_data_t\n",
    "\n",
    "# placeholder\n",
    "X = tf.placeholder(shape=[None,3], dtype=tf.float32)\n",
    "T = tf.placeholder(shape=[None,1], dtype=tf.float32)\n",
    "\n",
    "# Weight & bias\n",
    "W = tf.Variable(tf.random.normal([3,1]), name='weight')\n",
    "b = tf.Variable(tf.random.normal([1]), name='bias')\n",
    "\n",
    "# Hypothesis(Multiple Linear Regression Model)\n",
    "H = tf.matmul(X,W) + b\n",
    "\n",
    "# loss function\n",
    "loss = tf.reduce_mean(tf.square(H-T))\n",
    "\n",
    "# train 노드 생성\n",
    "train = tf.train.GradientDescentOptimizer(learning_rate=0.001).minimize(loss)\n",
    "\n",
    "# Session & 초기화\n",
    "sess = tf.Session()\n",
    "sess.run(tf.global_variables_initializer())\n",
    "\n",
    "# 학습을 진행(Graph를 실행)\n",
    "for step in range(30000):\n",
    "    _, W_val, b_val, loss_val = sess.run([train,W,b,loss], feed_dict={X:x_data, T:t_data})\n",
    "    \n",
    "    if step % 3000 == 0:\n",
    "        print('W : {}, b : {}, cost : {}'.format(W_val, b_val, loss_val))\n",
    "        \n",
    "        "
   ]
  },
  {
   "cell_type": "code",
   "execution_count": 21,
   "metadata": {},
   "outputs": [
    {
     "data": {
      "text/plain": [
       "array([[53.74742]], dtype=float32)"
      ]
     },
     "execution_count": 21,
     "metadata": {},
     "output_type": "execute_result"
    }
   ],
   "source": [
    "# 내가 알고싶은 값을 넣어서 predict!!\n",
    "predict_data_x = np.array([[150,8.0,85]])\n",
    "predict_data_x = scaler_x.transform(predict_data_x)\n",
    "\n",
    "\n",
    "result = sess.run(H, feed_dict={X:predict_data_x})\n",
    "result = scaler_t.inverse_transform(result)\n",
    "result"
   ]
  },
  {
   "cell_type": "code",
   "execution_count": 28,
   "metadata": {
    "scrolled": false
   },
   "outputs": [
    {
     "name": "stdout",
     "output_type": "stream",
     "text": [
      "[[-0.17382295]]\n",
      "[4.5982984]\n"
     ]
    },
    {
     "name": "stderr",
     "output_type": "stream",
     "text": [
      "C:\\Users\\i\\anaconda3\\envs\\data_env\\lib\\site-packages\\sklearn\\utils\\deprecation.py:86: FutureWarning: Function make_blobs is deprecated; Please import make_blobs directly from scikit-learn\n",
      "  warnings.warn(msg, category=FutureWarning)\n"
     ]
    },
    {
     "data": {
      "text/plain": [
       "[<matplotlib.lines.Line2D at 0x1c576b3dfc8>]"
      ]
     },
     "execution_count": 28,
     "metadata": {},
     "output_type": "execute_result"
    },
    {
     "data": {
      "image/png": "[encoded data removed]",
      "text/plain": [
       "<Figure size 432x288 with 1 Axes>"
      ]
     },
     "metadata": {
      "needs_background": "light"
     },
     "output_type": "display_data"
    }
   ],
   "source": [
    "# Logistic Regression의 의미를 알아보아요!!!\n",
    "\n",
    "import numpy as np\n",
    "from sklearn import linear_model\n",
    "import mglearn  # Dataset을 가져오기 위한 utility module\n",
    "import matplotlib.pyplot as plt\n",
    "\n",
    "# training data set\n",
    "\n",
    "x,y = mglearn.datasets.make_forge()\n",
    "# print(x)  [[10,20], [30,40], ...]\n",
    "# print(y)\n",
    "# x의 데이터를 x축,y축으로 사용할 꺼예요. \n",
    "# y의 데이터는 2차원 평면의 점이 0인지 1인지를 나타내는 데이터\n",
    "\n",
    "mglearn.discrete_scatter(x[:,0], x[:,1],y)\n",
    "\n",
    "\n",
    "# Linear Regression으로 x의 데이터를 학습해서\n",
    "# 각 점들을 가장 잘 표현할 수 있는 직선을 그려보겠어요|!\n",
    "model = linear_model.LinearRegression()\n",
    "model.fit(x[:,0].reshape(-1,1), x[:,1].reshape(-1,1))\n",
    "print(model.coef_)\n",
    "print(model.intercept_)\n",
    "plt.plot(x[:,0], x[:,0]*model.coef_.ravel() + model.intercept_)"
   ]
  },
  {
   "cell_type": "code",
   "execution_count": 32,
   "metadata": {
    "scrolled": true
   },
   "outputs": [
    {
     "name": "stdout",
     "output_type": "stream",
     "text": [
      "[[0.03500583]] [0.17327888]\n"
     ]
    },
    {
     "data": {
      "text/plain": [
       "[<matplotlib.lines.Line2D at 0x1c5770b8688>]"
      ]
     },
     "execution_count": 32,
     "metadata": {},
     "output_type": "execute_result"
    },
    {
     "data": {
      "image/png": "[encoded data removed]",
      "text/plain": [
       "<Figure size 432x288 with 1 Axes>"
      ]
     },
     "metadata": {
      "needs_background": "light"
     },
     "output_type": "display_data"
    }
   ],
   "source": [
    "# 공부시간에 따른 시험합격여부에 대한 데이터를 학습하고\n",
    "# 특정 공부시간을 입력했을때의 합격여부를 알고싶어요\n",
    "\n",
    "import numpy as np\n",
    "import matplotlib.pyplot as plt\n",
    "from sklearn import linear_model\n",
    "\n",
    "# Training Data Set\n",
    "x_data = np.array([1,2,5,8,10,30])  # 공부시간\n",
    "t_data = np.array([0,0,0,1,1,1])   # 시험합격여부(0:Fail, 1:Pass)\n",
    "\n",
    "# Linear Regression Model을 생성 , 학습, 그래프를 출력\n",
    "model = linear_model.LinearRegression()\n",
    "model.fit(x_data.reshape(-1,1),\n",
    "          t_data.reshape(-1,1))\n",
    "print(model.coef_, model.intercept_)\n",
    "plt.scatter(x_data, t_data)\n",
    "plt.plot(x_data, x_data * model.coef_.ravel() + model.intercept_, color='r')"
   ]
  },
  {
   "cell_type": "code",
   "execution_count": 33,
   "metadata": {},
   "outputs": [
    {
     "data": {
      "image/png": "[encoded data removed]",
      "text/plain": [
       "<Figure size 432x288 with 1 Axes>"
      ]
     },
     "metadata": {
      "needs_background": "light"
     },
     "output_type": "display_data"
    }
   ],
   "source": [
    "import numpy as np\n",
    "import matplotlib.pyplot as plt\n",
    "\n",
    "x_data = np.arange(-7,8) # [-7 -6 -5 ... 7]\n",
    "y_data = 1 / ( 1 + np.exp(-1 * x_data))\n",
    "\n",
    "plt.plot(x_data,y_data)\n",
    "plt.show()"
   ]
  },
  {
   "cell_type": "code",
   "execution_count": 37,
   "metadata": {},
   "outputs": [
    {
     "name": "stdout",
     "output_type": "stream",
     "text": [
      "W : [[0.0507212]\n",
      " [0.7270718]], b : [1.0093336], cost : 0.7506395578384399\n",
      "W : [[0.01742132]\n",
      " [0.65328044]], b : [0.41679278], cost : 0.5972550511360168\n",
      "W : [[0.08506963]\n",
      " [0.6700201 ]], b : [-0.06576812], cost : 0.5176926255226135\n",
      "W : [[0.13892604]\n",
      " [0.72871315]], b : [-0.47262534], cost : 0.4602518081665039\n",
      "W : [[0.18299921]\n",
      " [0.80125725]], b : [-0.8208948], cost : 0.4173407554626465\n",
      "W : [[0.22019504]\n",
      " [0.8744288 ]], b : [-1.1236486], cost : 0.38449355959892273\n",
      "W : [[0.252361 ]\n",
      " [0.9433676]], b : [-1.3905486], cost : 0.35878822207450867\n",
      "W : [[0.28069288]\n",
      " [1.0068252 ]], b : [-1.6287993], cost : 0.33823662996292114\n",
      "W : [[0.3060088]\n",
      " [1.06493  ]], b : [-1.843842], cost : 0.321469247341156\n",
      "W : [[0.328895 ]\n",
      " [1.1182324]], b : [-2.0398452], cost : 0.3075321316719055\n",
      "[[0.81963533]]\n"
     ]
    }
   ],
   "source": [
    "import tensorflow as tf\n",
    "import numpy as np\n",
    "\n",
    "# training data set\n",
    "x_data = np.array([[1,0],\n",
    "                   [2,0],\n",
    "                   [5,1],\n",
    "                   [2,3],\n",
    "                   [3,3],\n",
    "                   [8,1],\n",
    "                   [10,0]])\n",
    "t_data = np.array([[0],\n",
    "                   [0],\n",
    "                   [0],\n",
    "                   [1],\n",
    "                   [1],\n",
    "                   [1],\n",
    "                   [1]])\n",
    "\n",
    "# placeholder\n",
    "X = tf.placeholder(shape=[None,2], dtype=tf.float32)\n",
    "T = tf.placeholder(shape=[None,1], dtype=tf.float32)\n",
    "\n",
    "# Weight & bias\n",
    "W = tf.Variable(tf.random.normal([2,1]), name='weight')\n",
    "b = tf.Variable(tf.random.normal([1]), name='bias')\n",
    "\n",
    "# Hypothesis(Logistic Model)\n",
    "logits = tf.matmul(X,W) + b   # Linear Regression Hypothesis\n",
    "H = tf.sigmoid(logits)\n",
    "\n",
    "# loss function\n",
    "loss = tf.reduce_mean(tf.nn.sigmoid_cross_entropy_with_logits(logits=logits, labels=T))\n",
    "\n",
    "\n",
    "######## Linear Regression에서 사용했던 코드 그대로 사용!\n",
    "\n",
    "# train 노드 생성\n",
    "train = tf.train.GradientDescentOptimizer(learning_rate=0.001).minimize(loss)\n",
    "\n",
    "# Session & 초기화\n",
    "sess = tf.Session()\n",
    "sess.run(tf.global_variables_initializer())\n",
    "\n",
    "# 학습을 진행(Graph를 실행)\n",
    "for step in range(30000):\n",
    "    _, W_val, b_val, loss_val = sess.run([train,W,b,loss], feed_dict={X:x_data, T:t_data})\n",
    "    \n",
    "    if step % 3000 == 0:\n",
    "        print('W : {}, b : {}, cost : {}'.format(W_val, b_val, loss_val))\n",
    "        \n",
    "# 예측!!\n",
    "print(sess.run(H, feed_dict={X:[[4,2]]}))\n",
    "\n"
   ]
  }
 ],
 "metadata": {
  "kernelspec": {
   "display_name": "Python [conda env:data_env] *",
   "language": "python",
   "name": "conda-env-data_env-py"
  },
  "language_info": {
   "codemirror_mode": {
    "name": "ipython",
    "version": 3
   },
   "file_extension": ".py",
   "mimetype": "text/x-python",
   "name": "python",
   "nbconvert_exporter": "python",
   "pygments_lexer": "ipython3",
   "version": "3.7.9"
  }
 },
 "nbformat": 4,
 "nbformat_minor": 4
}
