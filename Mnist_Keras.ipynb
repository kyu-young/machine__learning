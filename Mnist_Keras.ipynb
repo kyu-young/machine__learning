{
 "cells": [
  {
   "cell_type": "code",
   "execution_count": 61,
   "metadata": {},
   "outputs": [],
   "source": [
    "import pandas as pd\n",
    "import numpy as np\n",
    "from sklearn.model_selection import train_test_split \n",
    "from sklearn.metrics import classification_report\n",
    "import tensorflow as tf\n",
    "from tensorflow import keras\n",
    "from tensorflow.keras.layers import Dense, Dropout, Activation\n",
    "from tensorflow.keras.models import Sequential\n",
    "from tensorflow.keras.optimizers import SGD, Adam\n",
    "from sklearn.preprocessing import MinMaxScaler\n"
   ]
  },
  {
   "cell_type": "code",
   "execution_count": 52,
   "metadata": {},
   "outputs": [],
   "source": [
    "df = pd.read_csv('/Users/mac/notebook_dir/data/digit-recognizer/numtrain.csv')"
   ]
  },
  {
   "cell_type": "code",
   "execution_count": 53,
   "metadata": {},
   "outputs": [],
   "source": [
    "x_data = df.drop('label', axis=1, inplace = False)\n",
    "t_data = df['label']"
   ]
  },
  {
   "cell_type": "code",
   "execution_count": 54,
   "metadata": {},
   "outputs": [],
   "source": [
    "# Data Split\n",
    "x_data_train, x_data_test, t_data_train, t_data_test = \\\n",
    "train_test_split(df.drop('label', axis=1, inplace=False), df['label'], test_size=0.3, random_state=0)"
   ]
  },
  {
   "cell_type": "code",
   "execution_count": 55,
   "metadata": {},
   "outputs": [],
   "source": [
    "# Min-Max Normalization\n",
    "scaler = MinMaxScaler()   # scaler = StandardScaler()\n",
    "scaler.fit(x_data_train)\n",
    "x_data_train_norm = scaler.transform(x_data_train)\n",
    "x_data_test_norm = scaler.transform(x_data_test)\n",
    "\n",
    "del x_data_train\n",
    "del x_data_test\n"
   ]
  },
  {
   "cell_type": "code",
   "execution_count": 56,
   "metadata": {},
   "outputs": [],
   "source": [
    "# y_train_onehot = tf.one_hot(y_train, depth=10)\n",
    "# y_test_onehot = tf.one_hot(y_test, depth=10)"
   ]
  },
  {
   "cell_type": "code",
   "execution_count": 57,
   "metadata": {},
   "outputs": [],
   "source": [
    "model = Sequential()\n",
    "model.add(Dense(256,\n",
    "               activation = 'relu',\n",
    "               kernel_initializer='he_uniform',\n",
    "               input_shape=(x_data_train_norm.shape[1],)))\n",
    "model.add(Dropout(0.3))\n",
    "model.add(Dense(128,\n",
    "               activation = 'relu',\n",
    "               kernel_initializer='he_uniform'))\n",
    "model.add(Dropout(0.3))\n",
    "model.add(Dense(10,\n",
    "               activation = 'softmax',\n",
    "               kernel_initializer='he_uniform'))"
   ]
  },
  {
   "cell_type": "code",
   "execution_count": 58,
   "metadata": {},
   "outputs": [],
   "source": [
    "model.compile(optimizer = Adam(learning_rate=1e-3),\n",
    "              loss = 'sparse_categorical_crossentropy',\n",
    "              metrics = ['sparse_categorical_crossentropy'])"
   ]
  },
  {
   "cell_type": "code",
   "execution_count": 59,
   "metadata": {},
   "outputs": [
    {
     "name": "stdout",
     "output_type": "stream",
     "text": [
      "Train on 20580 samples, validate on 8820 samples\n",
      "Epoch 1/100\n",
      "20580/20580 [==============================] - 1s 41us/sample - loss: 0.6255 - sparse_categorical_crossentropy: 0.6255 - val_loss: 0.2565 - val_sparse_categorical_crossentropy: 0.2565\n",
      "Epoch 2/100\n",
      "20580/20580 [==============================] - 1s 27us/sample - loss: 0.2607 - sparse_categorical_crossentropy: 0.2607 - val_loss: 0.1867 - val_sparse_categorical_crossentropy: 0.1867\n",
      "Epoch 3/100\n",
      "20580/20580 [==============================] - 1s 31us/sample - loss: 0.1896 - sparse_categorical_crossentropy: 0.1896 - val_loss: 0.1657 - val_sparse_categorical_crossentropy: 0.1657\n",
      "Epoch 4/100\n",
      "20580/20580 [==============================] - 1s 26us/sample - loss: 0.1480 - sparse_categorical_crossentropy: 0.1480 - val_loss: 0.1384 - val_sparse_categorical_crossentropy: 0.1384\n",
      "Epoch 5/100\n",
      "20580/20580 [==============================] - 1s 25us/sample - loss: 0.1265 - sparse_categorical_crossentropy: 0.1265 - val_loss: 0.1363 - val_sparse_categorical_crossentropy: 0.1363\n",
      "Epoch 6/100\n",
      "20580/20580 [==============================] - 1s 28us/sample - loss: 0.1080 - sparse_categorical_crossentropy: 0.1080 - val_loss: 0.1245 - val_sparse_categorical_crossentropy: 0.1245\n",
      "Epoch 7/100\n",
      "20580/20580 [==============================] - 1s 26us/sample - loss: 0.0924 - sparse_categorical_crossentropy: 0.0924 - val_loss: 0.1226 - val_sparse_categorical_crossentropy: 0.1226\n",
      "Epoch 8/100\n",
      "20580/20580 [==============================] - 1s 26us/sample - loss: 0.0829 - sparse_categorical_crossentropy: 0.0829 - val_loss: 0.1188 - val_sparse_categorical_crossentropy: 0.1188\n",
      "Epoch 9/100\n",
      "20580/20580 [==============================] - 1s 26us/sample - loss: 0.0713 - sparse_categorical_crossentropy: 0.0713 - val_loss: 0.1096 - val_sparse_categorical_crossentropy: 0.1096\n",
      "Epoch 10/100\n",
      "20580/20580 [==============================] - 1s 26us/sample - loss: 0.0601 - sparse_categorical_crossentropy: 0.0601 - val_loss: 0.1163 - val_sparse_categorical_crossentropy: 0.1163\n",
      "Epoch 11/100\n",
      "20580/20580 [==============================] - 1s 25us/sample - loss: 0.0560 - sparse_categorical_crossentropy: 0.0560 - val_loss: 0.1257 - val_sparse_categorical_crossentropy: 0.1257\n",
      "Epoch 12/100\n",
      "20580/20580 [==============================] - 1s 26us/sample - loss: 0.0506 - sparse_categorical_crossentropy: 0.0506 - val_loss: 0.1101 - val_sparse_categorical_crossentropy: 0.1101\n",
      "Epoch 13/100\n",
      "20580/20580 [==============================] - 1s 26us/sample - loss: 0.0463 - sparse_categorical_crossentropy: 0.0463 - val_loss: 0.1076 - val_sparse_categorical_crossentropy: 0.1076\n",
      "Epoch 14/100\n",
      "20580/20580 [==============================] - 1s 26us/sample - loss: 0.0424 - sparse_categorical_crossentropy: 0.0424 - val_loss: 0.1104 - val_sparse_categorical_crossentropy: 0.1104\n",
      "Epoch 15/100\n",
      "20580/20580 [==============================] - 1s 26us/sample - loss: 0.0390 - sparse_categorical_crossentropy: 0.0390 - val_loss: 0.1092 - val_sparse_categorical_crossentropy: 0.1092\n",
      "Epoch 16/100\n",
      "20580/20580 [==============================] - 1s 26us/sample - loss: 0.0407 - sparse_categorical_crossentropy: 0.0407 - val_loss: 0.1109 - val_sparse_categorical_crossentropy: 0.1109\n",
      "Epoch 17/100\n",
      "20580/20580 [==============================] - 1s 26us/sample - loss: 0.0380 - sparse_categorical_crossentropy: 0.0380 - val_loss: 0.1046 - val_sparse_categorical_crossentropy: 0.1046\n",
      "Epoch 18/100\n",
      "20580/20580 [==============================] - 1s 25us/sample - loss: 0.0337 - sparse_categorical_crossentropy: 0.0337 - val_loss: 0.1106 - val_sparse_categorical_crossentropy: 0.1106\n",
      "Epoch 19/100\n",
      "20580/20580 [==============================] - 1s 26us/sample - loss: 0.0311 - sparse_categorical_crossentropy: 0.0311 - val_loss: 0.1242 - val_sparse_categorical_crossentropy: 0.1242\n",
      "Epoch 20/100\n",
      "20580/20580 [==============================] - 1s 27us/sample - loss: 0.0315 - sparse_categorical_crossentropy: 0.0315 - val_loss: 0.1182 - val_sparse_categorical_crossentropy: 0.1182\n",
      "Epoch 21/100\n",
      "20580/20580 [==============================] - 1s 27us/sample - loss: 0.0262 - sparse_categorical_crossentropy: 0.0262 - val_loss: 0.1274 - val_sparse_categorical_crossentropy: 0.1274\n",
      "Epoch 22/100\n",
      "20580/20580 [==============================] - 1s 27us/sample - loss: 0.0260 - sparse_categorical_crossentropy: 0.0260 - val_loss: 0.1323 - val_sparse_categorical_crossentropy: 0.1323\n",
      "Epoch 23/100\n",
      "20580/20580 [==============================] - 1s 27us/sample - loss: 0.0283 - sparse_categorical_crossentropy: 0.0283 - val_loss: 0.1379 - val_sparse_categorical_crossentropy: 0.1379\n",
      "Epoch 24/100\n",
      "20580/20580 [==============================] - 1s 26us/sample - loss: 0.0242 - sparse_categorical_crossentropy: 0.0242 - val_loss: 0.1324 - val_sparse_categorical_crossentropy: 0.1324\n",
      "Epoch 25/100\n",
      "20580/20580 [==============================] - 1s 26us/sample - loss: 0.0228 - sparse_categorical_crossentropy: 0.0228 - val_loss: 0.1283 - val_sparse_categorical_crossentropy: 0.1283\n",
      "Epoch 26/100\n",
      "20580/20580 [==============================] - 1s 30us/sample - loss: 0.0258 - sparse_categorical_crossentropy: 0.0258 - val_loss: 0.1170 - val_sparse_categorical_crossentropy: 0.1170\n",
      "Epoch 27/100\n",
      "20580/20580 [==============================] - 1s 29us/sample - loss: 0.0234 - sparse_categorical_crossentropy: 0.0234 - val_loss: 0.1159 - val_sparse_categorical_crossentropy: 0.1159\n",
      "Epoch 28/100\n",
      "20580/20580 [==============================] - 1s 29us/sample - loss: 0.0231 - sparse_categorical_crossentropy: 0.0231 - val_loss: 0.1263 - val_sparse_categorical_crossentropy: 0.1263\n",
      "Epoch 29/100\n",
      "20580/20580 [==============================] - 1s 28us/sample - loss: 0.0201 - sparse_categorical_crossentropy: 0.0201 - val_loss: 0.1283 - val_sparse_categorical_crossentropy: 0.1283\n",
      "Epoch 30/100\n",
      "20580/20580 [==============================] - 1s 27us/sample - loss: 0.0208 - sparse_categorical_crossentropy: 0.0208 - val_loss: 0.1348 - val_sparse_categorical_crossentropy: 0.1348\n",
      "Epoch 31/100\n",
      "20580/20580 [==============================] - 1s 27us/sample - loss: 0.0199 - sparse_categorical_crossentropy: 0.0199 - val_loss: 0.1345 - val_sparse_categorical_crossentropy: 0.1345\n",
      "Epoch 32/100\n",
      "20580/20580 [==============================] - 1s 32us/sample - loss: 0.0200 - sparse_categorical_crossentropy: 0.0200 - val_loss: 0.1288 - val_sparse_categorical_crossentropy: 0.1288\n",
      "Epoch 33/100\n",
      "20580/20580 [==============================] - 1s 32us/sample - loss: 0.0171 - sparse_categorical_crossentropy: 0.0171 - val_loss: 0.1321 - val_sparse_categorical_crossentropy: 0.1321\n",
      "Epoch 34/100\n",
      "20580/20580 [==============================] - 1s 26us/sample - loss: 0.0181 - sparse_categorical_crossentropy: 0.0181 - val_loss: 0.1330 - val_sparse_categorical_crossentropy: 0.1330\n",
      "Epoch 35/100\n",
      "20580/20580 [==============================] - 1s 25us/sample - loss: 0.0203 - sparse_categorical_crossentropy: 0.0203 - val_loss: 0.1331 - val_sparse_categorical_crossentropy: 0.1331\n",
      "Epoch 36/100\n",
      "20580/20580 [==============================] - 1s 25us/sample - loss: 0.0213 - sparse_categorical_crossentropy: 0.0213 - val_loss: 0.1322 - val_sparse_categorical_crossentropy: 0.1322\n",
      "Epoch 37/100\n",
      "20580/20580 [==============================] - 1s 26us/sample - loss: 0.0154 - sparse_categorical_crossentropy: 0.0154 - val_loss: 0.1363 - val_sparse_categorical_crossentropy: 0.1363\n",
      "Epoch 38/100\n",
      "20580/20580 [==============================] - 1s 26us/sample - loss: 0.0186 - sparse_categorical_crossentropy: 0.0186 - val_loss: 0.1490 - val_sparse_categorical_crossentropy: 0.1490\n",
      "Epoch 39/100\n",
      "20580/20580 [==============================] - 1s 25us/sample - loss: 0.0171 - sparse_categorical_crossentropy: 0.0171 - val_loss: 0.1461 - val_sparse_categorical_crossentropy: 0.1461\n",
      "Epoch 40/100\n",
      "20580/20580 [==============================] - 1s 26us/sample - loss: 0.0150 - sparse_categorical_crossentropy: 0.0150 - val_loss: 0.1406 - val_sparse_categorical_crossentropy: 0.1406\n",
      "Epoch 41/100\n",
      "20580/20580 [==============================] - 1s 25us/sample - loss: 0.0158 - sparse_categorical_crossentropy: 0.0158 - val_loss: 0.1395 - val_sparse_categorical_crossentropy: 0.1395\n",
      "Epoch 42/100\n"
     ]
    },
    {
     "name": "stdout",
     "output_type": "stream",
     "text": [
      "20580/20580 [==============================] - 1s 25us/sample - loss: 0.0154 - sparse_categorical_crossentropy: 0.0154 - val_loss: 0.1403 - val_sparse_categorical_crossentropy: 0.1403\n",
      "Epoch 43/100\n",
      "20580/20580 [==============================] - 0s 24us/sample - loss: 0.0174 - sparse_categorical_crossentropy: 0.0174 - val_loss: 0.1324 - val_sparse_categorical_crossentropy: 0.1324\n",
      "Epoch 44/100\n",
      "20580/20580 [==============================] - 1s 25us/sample - loss: 0.0143 - sparse_categorical_crossentropy: 0.0143 - val_loss: 0.1462 - val_sparse_categorical_crossentropy: 0.1462\n",
      "Epoch 45/100\n",
      "20580/20580 [==============================] - 1s 25us/sample - loss: 0.0145 - sparse_categorical_crossentropy: 0.0145 - val_loss: 0.1427 - val_sparse_categorical_crossentropy: 0.1427\n",
      "Epoch 46/100\n",
      "20580/20580 [==============================] - 1s 25us/sample - loss: 0.0179 - sparse_categorical_crossentropy: 0.0179 - val_loss: 0.1420 - val_sparse_categorical_crossentropy: 0.1420\n",
      "Epoch 47/100\n",
      "20580/20580 [==============================] - 1s 24us/sample - loss: 0.0131 - sparse_categorical_crossentropy: 0.0131 - val_loss: 0.1446 - val_sparse_categorical_crossentropy: 0.1446\n",
      "Epoch 48/100\n",
      "20580/20580 [==============================] - 1s 25us/sample - loss: 0.0177 - sparse_categorical_crossentropy: 0.0177 - val_loss: 0.1390 - val_sparse_categorical_crossentropy: 0.1390\n",
      "Epoch 49/100\n",
      "20580/20580 [==============================] - 1s 25us/sample - loss: 0.0125 - sparse_categorical_crossentropy: 0.0125 - val_loss: 0.1440 - val_sparse_categorical_crossentropy: 0.1440\n",
      "Epoch 50/100\n",
      "20580/20580 [==============================] - 1s 25us/sample - loss: 0.0133 - sparse_categorical_crossentropy: 0.0133 - val_loss: 0.1481 - val_sparse_categorical_crossentropy: 0.1481\n",
      "Epoch 51/100\n",
      "20580/20580 [==============================] - 0s 24us/sample - loss: 0.0114 - sparse_categorical_crossentropy: 0.0114 - val_loss: 0.1534 - val_sparse_categorical_crossentropy: 0.1534\n",
      "Epoch 52/100\n",
      "20580/20580 [==============================] - 1s 25us/sample - loss: 0.0162 - sparse_categorical_crossentropy: 0.0162 - val_loss: 0.1584 - val_sparse_categorical_crossentropy: 0.1584\n",
      "Epoch 53/100\n",
      "20580/20580 [==============================] - 1s 25us/sample - loss: 0.0136 - sparse_categorical_crossentropy: 0.0136 - val_loss: 0.1502 - val_sparse_categorical_crossentropy: 0.1502\n",
      "Epoch 54/100\n",
      "20580/20580 [==============================] - 1s 25us/sample - loss: 0.0128 - sparse_categorical_crossentropy: 0.0128 - val_loss: 0.1594 - val_sparse_categorical_crossentropy: 0.1594\n",
      "Epoch 55/100\n",
      "20580/20580 [==============================] - 1s 24us/sample - loss: 0.0167 - sparse_categorical_crossentropy: 0.0167 - val_loss: 0.1651 - val_sparse_categorical_crossentropy: 0.1651\n",
      "Epoch 56/100\n",
      "20580/20580 [==============================] - 1s 25us/sample - loss: 0.0160 - sparse_categorical_crossentropy: 0.0160 - val_loss: 0.1462 - val_sparse_categorical_crossentropy: 0.1462\n",
      "Epoch 57/100\n",
      "20580/20580 [==============================] - 1s 25us/sample - loss: 0.0130 - sparse_categorical_crossentropy: 0.0130 - val_loss: 0.1497 - val_sparse_categorical_crossentropy: 0.1497\n",
      "Epoch 58/100\n",
      "20580/20580 [==============================] - 1s 25us/sample - loss: 0.0091 - sparse_categorical_crossentropy: 0.0091 - val_loss: 0.1481 - val_sparse_categorical_crossentropy: 0.1481\n",
      "Epoch 59/100\n",
      "20580/20580 [==============================] - 1s 24us/sample - loss: 0.0162 - sparse_categorical_crossentropy: 0.0162 - val_loss: 0.1772 - val_sparse_categorical_crossentropy: 0.1772\n",
      "Epoch 60/100\n",
      "20580/20580 [==============================] - 1s 28us/sample - loss: 0.0127 - sparse_categorical_crossentropy: 0.0127 - val_loss: 0.1519 - val_sparse_categorical_crossentropy: 0.1519\n",
      "Epoch 61/100\n",
      "20580/20580 [==============================] - 1s 25us/sample - loss: 0.0113 - sparse_categorical_crossentropy: 0.0113 - val_loss: 0.1452 - val_sparse_categorical_crossentropy: 0.1452\n",
      "Epoch 62/100\n",
      "20580/20580 [==============================] - 1s 30us/sample - loss: 0.0113 - sparse_categorical_crossentropy: 0.0113 - val_loss: 0.1456 - val_sparse_categorical_crossentropy: 0.1456\n",
      "Epoch 63/100\n",
      "20580/20580 [==============================] - 1s 30us/sample - loss: 0.0131 - sparse_categorical_crossentropy: 0.0131 - val_loss: 0.1459 - val_sparse_categorical_crossentropy: 0.1459\n",
      "Epoch 64/100\n",
      "20580/20580 [==============================] - 1s 28us/sample - loss: 0.0138 - sparse_categorical_crossentropy: 0.0138 - val_loss: 0.1565 - val_sparse_categorical_crossentropy: 0.1565\n",
      "Epoch 65/100\n",
      "20580/20580 [==============================] - 1s 27us/sample - loss: 0.0129 - sparse_categorical_crossentropy: 0.0129 - val_loss: 0.1799 - val_sparse_categorical_crossentropy: 0.1799\n",
      "Epoch 66/100\n",
      "20580/20580 [==============================] - 1s 26us/sample - loss: 0.0135 - sparse_categorical_crossentropy: 0.0135 - val_loss: 0.1687 - val_sparse_categorical_crossentropy: 0.1687\n",
      "Epoch 67/100\n",
      "20580/20580 [==============================] - 1s 26us/sample - loss: 0.0116 - sparse_categorical_crossentropy: 0.0116 - val_loss: 0.1747 - val_sparse_categorical_crossentropy: 0.1747\n",
      "Epoch 68/100\n",
      "20580/20580 [==============================] - 1s 26us/sample - loss: 0.0089 - sparse_categorical_crossentropy: 0.0089 - val_loss: 0.1793 - val_sparse_categorical_crossentropy: 0.1793\n",
      "Epoch 69/100\n",
      "20580/20580 [==============================] - 1s 26us/sample - loss: 0.0109 - sparse_categorical_crossentropy: 0.0109 - val_loss: 0.1662 - val_sparse_categorical_crossentropy: 0.1662\n",
      "Epoch 70/100\n",
      "20580/20580 [==============================] - 1s 26us/sample - loss: 0.0108 - sparse_categorical_crossentropy: 0.0108 - val_loss: 0.1729 - val_sparse_categorical_crossentropy: 0.1729\n",
      "Epoch 71/100\n",
      "20580/20580 [==============================] - 1s 26us/sample - loss: 0.0120 - sparse_categorical_crossentropy: 0.0120 - val_loss: 0.1719 - val_sparse_categorical_crossentropy: 0.1719\n",
      "Epoch 72/100\n",
      "20580/20580 [==============================] - 1s 27us/sample - loss: 0.0117 - sparse_categorical_crossentropy: 0.0117 - val_loss: 0.1646 - val_sparse_categorical_crossentropy: 0.1646\n",
      "Epoch 73/100\n",
      "20580/20580 [==============================] - 1s 26us/sample - loss: 0.0138 - sparse_categorical_crossentropy: 0.0138 - val_loss: 0.1660 - val_sparse_categorical_crossentropy: 0.1660\n",
      "Epoch 74/100\n",
      "20580/20580 [==============================] - 1s 26us/sample - loss: 0.0121 - sparse_categorical_crossentropy: 0.0121 - val_loss: 0.1597 - val_sparse_categorical_crossentropy: 0.1597\n",
      "Epoch 75/100\n",
      "20580/20580 [==============================] - 1s 27us/sample - loss: 0.0109 - sparse_categorical_crossentropy: 0.0109 - val_loss: 0.1746 - val_sparse_categorical_crossentropy: 0.1746\n",
      "Epoch 76/100\n",
      "20580/20580 [==============================] - 1s 30us/sample - loss: 0.0087 - sparse_categorical_crossentropy: 0.0087 - val_loss: 0.1661 - val_sparse_categorical_crossentropy: 0.1661\n",
      "Epoch 77/100\n",
      "20580/20580 [==============================] - 1s 26us/sample - loss: 0.0106 - sparse_categorical_crossentropy: 0.0106 - val_loss: 0.1680 - val_sparse_categorical_crossentropy: 0.1680\n",
      "Epoch 78/100\n",
      "20580/20580 [==============================] - 1s 27us/sample - loss: 0.0107 - sparse_categorical_crossentropy: 0.0107 - val_loss: 0.1674 - val_sparse_categorical_crossentropy: 0.1674\n",
      "Epoch 79/100\n",
      "20580/20580 [==============================] - 1s 26us/sample - loss: 0.0098 - sparse_categorical_crossentropy: 0.0098 - val_loss: 0.1672 - val_sparse_categorical_crossentropy: 0.1672\n",
      "Epoch 80/100\n",
      "20580/20580 [==============================] - 1s 27us/sample - loss: 0.0148 - sparse_categorical_crossentropy: 0.0148 - val_loss: 0.1628 - val_sparse_categorical_crossentropy: 0.1628\n",
      "Epoch 81/100\n",
      "20580/20580 [==============================] - 1s 28us/sample - loss: 0.0108 - sparse_categorical_crossentropy: 0.0108 - val_loss: 0.1562 - val_sparse_categorical_crossentropy: 0.1562\n",
      "Epoch 82/100\n",
      "20580/20580 [==============================] - 1s 28us/sample - loss: 0.0113 - sparse_categorical_crossentropy: 0.0113 - val_loss: 0.1613 - val_sparse_categorical_crossentropy: 0.1613\n",
      "Epoch 83/100\n"
     ]
    },
    {
     "name": "stdout",
     "output_type": "stream",
     "text": [
      "20580/20580 [==============================] - 1s 28us/sample - loss: 0.0075 - sparse_categorical_crossentropy: 0.0075 - val_loss: 0.1648 - val_sparse_categorical_crossentropy: 0.1648\n",
      "Epoch 84/100\n",
      "20580/20580 [==============================] - 1s 25us/sample - loss: 0.0106 - sparse_categorical_crossentropy: 0.0106 - val_loss: 0.1710 - val_sparse_categorical_crossentropy: 0.1710\n",
      "Epoch 85/100\n",
      "20580/20580 [==============================] - 1s 25us/sample - loss: 0.0096 - sparse_categorical_crossentropy: 0.0096 - val_loss: 0.1737 - val_sparse_categorical_crossentropy: 0.1737\n",
      "Epoch 86/100\n",
      "20580/20580 [==============================] - 1s 25us/sample - loss: 0.0120 - sparse_categorical_crossentropy: 0.0120 - val_loss: 0.1660 - val_sparse_categorical_crossentropy: 0.1660\n",
      "Epoch 87/100\n",
      "20580/20580 [==============================] - 1s 26us/sample - loss: 0.0100 - sparse_categorical_crossentropy: 0.0100 - val_loss: 0.1729 - val_sparse_categorical_crossentropy: 0.1729\n",
      "Epoch 88/100\n",
      "20580/20580 [==============================] - 1s 26us/sample - loss: 0.0087 - sparse_categorical_crossentropy: 0.0087 - val_loss: 0.1720 - val_sparse_categorical_crossentropy: 0.1720\n",
      "Epoch 89/100\n",
      "20580/20580 [==============================] - 1s 25us/sample - loss: 0.0119 - sparse_categorical_crossentropy: 0.0119 - val_loss: 0.1969 - val_sparse_categorical_crossentropy: 0.1969\n",
      "Epoch 90/100\n",
      "20580/20580 [==============================] - 1s 26us/sample - loss: 0.0112 - sparse_categorical_crossentropy: 0.0112 - val_loss: 0.1726 - val_sparse_categorical_crossentropy: 0.1726\n",
      "Epoch 91/100\n",
      "20580/20580 [==============================] - 1s 26us/sample - loss: 0.0125 - sparse_categorical_crossentropy: 0.0125 - val_loss: 0.1750 - val_sparse_categorical_crossentropy: 0.1750\n",
      "Epoch 92/100\n",
      "20580/20580 [==============================] - 1s 25us/sample - loss: 0.0086 - sparse_categorical_crossentropy: 0.0086 - val_loss: 0.1868 - val_sparse_categorical_crossentropy: 0.1868\n",
      "Epoch 93/100\n",
      "20580/20580 [==============================] - 1s 26us/sample - loss: 0.0080 - sparse_categorical_crossentropy: 0.0080 - val_loss: 0.1595 - val_sparse_categorical_crossentropy: 0.1595\n",
      "Epoch 94/100\n",
      "20580/20580 [==============================] - 1s 26us/sample - loss: 0.0075 - sparse_categorical_crossentropy: 0.0075 - val_loss: 0.1723 - val_sparse_categorical_crossentropy: 0.1723\n",
      "Epoch 95/100\n",
      "20580/20580 [==============================] - 1s 26us/sample - loss: 0.0113 - sparse_categorical_crossentropy: 0.0113 - val_loss: 0.1776 - val_sparse_categorical_crossentropy: 0.1776\n",
      "Epoch 96/100\n",
      "20580/20580 [==============================] - 1s 25us/sample - loss: 0.0116 - sparse_categorical_crossentropy: 0.0116 - val_loss: 0.1807 - val_sparse_categorical_crossentropy: 0.1807\n",
      "Epoch 97/100\n",
      "20580/20580 [==============================] - 1s 29us/sample - loss: 0.0065 - sparse_categorical_crossentropy: 0.0065 - val_loss: 0.1716 - val_sparse_categorical_crossentropy: 0.1716\n",
      "Epoch 98/100\n",
      "20580/20580 [==============================] - 1s 29us/sample - loss: 0.0094 - sparse_categorical_crossentropy: 0.0094 - val_loss: 0.1796 - val_sparse_categorical_crossentropy: 0.1796\n",
      "Epoch 99/100\n",
      "20580/20580 [==============================] - 1s 26us/sample - loss: 0.0101 - sparse_categorical_crossentropy: 0.0101 - val_loss: 0.1673 - val_sparse_categorical_crossentropy: 0.1673\n",
      "Epoch 100/100\n",
      "20580/20580 [==============================] - 1s 26us/sample - loss: 0.0087 - sparse_categorical_crossentropy: 0.0087 - val_loss: 0.1690 - val_sparse_categorical_crossentropy: 0.1690\n"
     ]
    }
   ],
   "source": [
    "history = model.fit(x_data_train_norm,\n",
    "                   t_data_train,\n",
    "                   epochs=100,\n",
    "                   verbose=1,\n",
    "                   batch_size=128,\n",
    "                   validation_split=0.3)"
   ]
  },
  {
   "cell_type": "code",
   "execution_count": 63,
   "metadata": {},
   "outputs": [
    {
     "name": "stdout",
     "output_type": "stream",
     "text": [
      "              precision    recall  f1-score   support\n",
      "\n",
      "           0       0.98      0.98      0.98      1242\n",
      "           1       0.98      0.99      0.98      1429\n",
      "           2       0.97      0.98      0.97      1276\n",
      "           3       0.97      0.96      0.97      1298\n",
      "           4       0.98      0.97      0.98      1236\n",
      "           5       0.97      0.97      0.97      1119\n",
      "           6       0.97      0.99      0.98      1243\n",
      "           7       0.98      0.97      0.98      1334\n",
      "           8       0.96      0.96      0.96      1204\n",
      "           9       0.97      0.97      0.97      1219\n",
      "\n",
      "    accuracy                           0.97     12600\n",
      "   macro avg       0.97      0.97      0.97     12600\n",
      "weighted avg       0.97      0.97      0.97     12600\n",
      "\n"
     ]
    }
   ],
   "source": [
    "result = np.argmax(model.predict(x_data_test_norm), axis=1)\n",
    "print(classification_report(t_data_test, result))"
   ]
  },
  {
   "cell_type": "code",
   "execution_count": 65,
   "metadata": {},
   "outputs": [
    {
     "name": "stdout",
     "output_type": "stream",
     "text": [
      "dict_keys(['loss', 'sparse_categorical_crossentropy', 'val_loss', 'val_sparse_categorical_crossentropy'])\n"
     ]
    },
    {
     "ename": "KeyError",
     "evalue": "'val_sparse_categorical_accuracy'",
     "output_type": "error",
     "traceback": [
      "\u001b[0;31m---------------------------------------------------------------------------\u001b[0m",
      "\u001b[0;31mKeyError\u001b[0m                                  Traceback (most recent call last)",
      "\u001b[0;32m<ipython-input-65-fab7cc8961de>\u001b[0m in \u001b[0;36m<module>\u001b[0;34m\u001b[0m\n\u001b[1;32m      3\u001b[0m \u001b[0mprint\u001b[0m \u001b[0;34m(\u001b[0m\u001b[0mhistory\u001b[0m\u001b[0;34m.\u001b[0m\u001b[0mhistory\u001b[0m\u001b[0;34m.\u001b[0m\u001b[0mkeys\u001b[0m\u001b[0;34m(\u001b[0m\u001b[0;34m)\u001b[0m\u001b[0;34m)\u001b[0m\u001b[0;34m\u001b[0m\u001b[0;34m\u001b[0m\u001b[0m\n\u001b[1;32m      4\u001b[0m \u001b[0mplt\u001b[0m\u001b[0;34m.\u001b[0m\u001b[0mplot\u001b[0m\u001b[0;34m(\u001b[0m\u001b[0mhistory\u001b[0m\u001b[0;34m.\u001b[0m\u001b[0mhistory\u001b[0m\u001b[0;34m[\u001b[0m\u001b[0;34m'sparse_categorical_crossentropy'\u001b[0m\u001b[0;34m]\u001b[0m\u001b[0;34m,\u001b[0m \u001b[0mcolor\u001b[0m \u001b[0;34m=\u001b[0m \u001b[0;34m'r'\u001b[0m\u001b[0;34m)\u001b[0m\u001b[0;34m\u001b[0m\u001b[0;34m\u001b[0m\u001b[0m\n\u001b[0;32m----> 5\u001b[0;31m \u001b[0mplt\u001b[0m\u001b[0;34m.\u001b[0m\u001b[0mplot\u001b[0m\u001b[0;34m(\u001b[0m\u001b[0mhistory\u001b[0m\u001b[0;34m.\u001b[0m\u001b[0mhistory\u001b[0m\u001b[0;34m[\u001b[0m\u001b[0;34m'val_sparse_categorical_accuracy'\u001b[0m\u001b[0;34m]\u001b[0m\u001b[0;34m,\u001b[0m \u001b[0mcolor\u001b[0m \u001b[0;34m=\u001b[0m \u001b[0;34m'b'\u001b[0m\u001b[0;34m)\u001b[0m\u001b[0;34m\u001b[0m\u001b[0;34m\u001b[0m\u001b[0m\n\u001b[0m\u001b[1;32m      6\u001b[0m \u001b[0mplt\u001b[0m\u001b[0;34m.\u001b[0m\u001b[0mshow\u001b[0m\u001b[0;34m(\u001b[0m\u001b[0;34m)\u001b[0m\u001b[0;34m\u001b[0m\u001b[0;34m\u001b[0m\u001b[0m\n",
      "\u001b[0;31mKeyError\u001b[0m: 'val_sparse_categorical_accuracy'"
     ]
    },
    {
     "data": {
      "image/png": "[encoded data removed]",
      "text/plain": [
       "<Figure size 432x288 with 1 Axes>"
      ]
     },
     "metadata": {
      "needs_background": "light"
     },
     "output_type": "display_data"
    }
   ],
   "source": [
    "import matplotlib.pyplot as plt\n",
    "\n",
    "print (history.history.keys())\n",
    "plt.plot(history.history['sparse_categorical_crossentropy'], color = 'r')\n",
    "plt.plot(history.history['val_sparse_categorical_accuracy'], color = 'b')\n",
    "plt.show()"
   ]
  }
 ],
 "metadata": {
  "kernelspec": {
   "display_name": "Python [conda env:tensorflow]",
   "language": "python",
   "name": "conda-env-tensorflow-py"
  },
  "language_info": {
   "codemirror_mode": {
    "name": "ipython",
    "version": 3
   },
   "file_extension": ".py",
   "mimetype": "text/x-python",
   "name": "python",
   "nbconvert_exporter": "python",
   "pygments_lexer": "ipython3",
   "version": "3.7.9"
  },
  "toc": {
   "base_numbering": 1,
   "nav_menu": {},
   "number_sections": true,
   "sideBar": true,
   "skip_h1_title": false,
   "title_cell": "Table of Contents",
   "title_sidebar": "Contents",
   "toc_cell": false,
   "toc_position": {},
   "toc_section_display": true,
   "toc_window_display": false
  }
 },
 "nbformat": 4,
 "nbformat_minor": 4
}
