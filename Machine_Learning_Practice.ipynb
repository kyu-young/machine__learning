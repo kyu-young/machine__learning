{
 "cells": [
  {
   "cell_type": "code",
   "execution_count": null,
   "metadata": {},
   "outputs": [],
   "source": [
    "from sklearn.preprocessing import MinMaxScaler\n",
    "import numpy as np\n",
    "import pandas as pd\n",
    "import matplotlib.pyplot as plt\n",
    "from scipy import stats\n",
    "from my_library.machine_learning_library import numerical_derivative\n",
    "\n",
    "df = pd.read_csv('/Users/mac/notebook_dir/data/ozone.csv')\n",
    "\n",
    "training_data = df[['Temp','Ozone']]\n",
    "\n",
    "print(training_data.shape)\n",
    "\n",
    "zscore_threshold = 2.0\n",
    "\n",
    "outliers = training_data['Temp'][np.abs(stats.zscore(training_data['Temp'])) > zscore_threshold]\n",
    "training_data = training_data.loc[~training_data['Temp'].isin(outliers)]\n",
    "outliers = training_data['Ozone'][np.abs(stats.zscore(training_data['Ozone'])) > zscore_threshold]\n",
    "training_data = training_data.loc[~training_data['Ozone'].isin(outliers)]\n",
    "\n",
    "print(training_data.shape)\n",
    "\n",
    "scaler_x = MinMaxScaler()\n",
    "scaler_t = MinMaxScaler()\n",
    "\n",
    "\n",
    "scaler_x.fit(training_data['Temp'].values.reshape(-1,1))\n",
    "scaler_t.fit(training_data['Ozone'].values.reshape(-1,1))\n",
    "\n",
    "print(training_data['Temp'].values)\n",
    "\n",
    "x_data = scaler_x.transform(training_data['Temp'].values.reshape(-1,1))\n",
    "t_data = scaler_t.transform(training_data['Ozone'].values.reshape(-1,1))\n",
    "\n",
    "print(x_data)\n",
    "\n",
    "W = np.random.rand(1,1)\n",
    "b = np.random.rand(1)\n",
    "\n",
    "def loss_func(x,t):\n",
    "    y = np.dot(x,W) + b\n",
    "    return np.mean(np.power((t-y),2))\n",
    "\n",
    "def predict(x):\n",
    "\n",
    "    return np.dot(x,W) + b\n",
    "    \n",
    "learning_rate = 1e-4\n",
    "\n",
    "f = lambda x: loss_func(x_data, t_data)\n",
    "\n",
    "for step in range(30000) :\n",
    "    W -= learning_rate * numerical_derivative(f,W)\n",
    "    b -= learning_rate * numerical_derivative(f,b)\n",
    "    \n",
    "    if step % 3000 :\n",
    "        print('W : {}, b : {}, loss : {}'.format(W,b,loss_func(x_data,t_data)))\n",
    "\n",
    "        \n",
    "        \n",
    "    \n",
    "plt.scatter(x_data,t_data)\n",
    "plt.plot(x_data, np.dot(x_data, W) + b, color ='r')\n",
    "plt.show()\n",
    "    \n",
    "print(predict(62))\n",
    "\n",
    "\n",
    "\n",
    "    \n",
    "    "
   ]
  },
  {
   "cell_type": "code",
   "execution_count": 3,
   "metadata": {},
   "outputs": [
    {
     "name": "stdout",
     "output_type": "stream",
     "text": [
      "Hello World\n"
     ]
    }
   ],
   "source": [
    "import tensorflow as tf\n",
    "\n",
    "node = tf.constant('Hello World')\n",
    "\n",
    "sess = tf.Session()\n",
    "\n",
    "\n",
    "print(sess.run(node).decode())"
   ]
  },
  {
   "cell_type": "code",
   "execution_count": 6,
   "metadata": {},
   "outputs": [
    {
     "name": "stdout",
     "output_type": "stream",
     "text": [
      "[30.0, 20.0]\n"
     ]
    }
   ],
   "source": [
    "import tensorflow as tf\n",
    "\n",
    "node1 = tf.constant(10, dtype = tf.float32)\n",
    "node2 = tf.constant(20, dtype = tf.float32)\n",
    "\n",
    "node3 = node1 + node2\n",
    "\n",
    "sess = tf.Session()\n",
    "\n",
    "print(sess.run([node3, node2]))\n"
   ]
  },
  {
   "cell_type": "code",
   "execution_count": 13,
   "metadata": {},
   "outputs": [
    {
     "name": "stdout",
     "output_type": "stream",
     "text": [
      "W ; [0.8948821], b : [0.9940682], loss ; 89.80921936035156\n",
      "W ; [2.0849319], b : [2.414395], loss ; 0.0658143162727356\n",
      "W ; [2.0275164], b : [2.8102772], loss ; 0.0069079832173883915\n",
      "W ; [2.0089166], b : [2.9385269], loss ; 0.0007252428331412375\n",
      "W ; [2.0028892], b : [2.9800787], loss ; 7.616535731358454e-05\n",
      "W ; [2.0009372], b : [2.993538], loss ; 8.013730621314608e-06\n",
      "W ; [2.000305], b : [2.9978979], loss ; 8.483977467221848e-07\n",
      "W ; [2.000108], b : [2.9992616], loss ; 1.0461626231972332e-07\n",
      "W ; [2.0000525], b : [2.9996467], loss ; 2.4012525301486676e-08\n",
      "W ; [2.0000525], b : [2.9996467], loss ; 2.4012525301486676e-08\n",
      "[ 6.9997516 10.999857  12.999908  17.000013  23.000172 ]\n"
     ]
    }
   ],
   "source": [
    "import tensorflow as tf\n",
    "\n",
    "x_data = [2,4,5,7,10]\n",
    "t_data = [7,11,13,17,23]\n",
    "\n",
    "\n",
    "W = tf.Variable(tf.random.normal([1]), name = 'Weight')\n",
    "b = tf.Variable(tf.random.normal([1]), name = 'bias')\n",
    "\n",
    "H = W * x_data + b\n",
    "\n",
    "loss = tf.reduce_mean(tf.square(t_data - H))\n",
    "\n",
    "optimizer = tf.train.GradientDescentOptimizer(learning_rate = 0.001)\n",
    "\n",
    "train = optimizer.minimize(loss)\n",
    "\n",
    "sess = tf.Session()\n",
    "sess.run(tf.global_variables_initializer())\n",
    "\n",
    "for step in range(30000):\n",
    "    _, W_val, b_val, loss_val = sess.run([train, W, b, loss])\n",
    "    \n",
    "    if step % 3000 == 0 :\n",
    "        print(\"W ; {}, b : {}, loss ; {}\".format(W_val, b_val, loss_val))\n",
    "        \n",
    "print(sess.run(H))"
   ]
  },
  {
   "cell_type": "code",
   "execution_count": 16,
   "metadata": {},
   "outputs": [
    {
     "name": "stdout",
     "output_type": "stream",
     "text": [
      "W : [0.07612889], b : [0.11984569], loss : 41.27199172973633\n",
      "W : [1.9391147], b : [0.21981482], loss : 0.008800776675343513\n",
      "W : [1.9779221], b : [0.07970744], loss : 0.001157179707661271\n",
      "W : [1.9919915], b : [0.02891006], loss : 0.0001522335223853588\n",
      "W : [1.9970922], b : [0.01049335], loss : 2.005677015404217e-05\n",
      "W : [1.9989412], b : [0.00381483], loss : 2.6514046567172045e-06\n",
      "W : [1.9996127], b : [0.00139062], loss : 3.523998657328775e-07\n",
      "W : [1.9998602], b : [0.00050272], loss : 4.6074966064679757e-08\n",
      "W : [1.9999433], b : [0.00019813], loss : 7.2339956247446935e-09\n",
      "W : [1.9999713], b : [9.564161e-05], loss : 1.75278958014502e-09\n",
      "[13.999926]\n"
     ]
    }
   ],
   "source": [
    "import tensorflow as tf\n",
    "\n",
    "x_data = [1,2,3,4,5]\n",
    "t_data = [2,4,6,8,10]\n",
    "\n",
    "X = tf.placeholder(dtype = tf.float32)\n",
    "T = tf.placeholder(dtype = tf.float32)\n",
    "\n",
    "W = tf.Variable(tf.random.normal([1]), name = 'Weight')\n",
    "b = tf.Variable(tf.random.normal([1]), name = 'bias')\n",
    "\n",
    "H = W * X + b\n",
    "\n",
    "loss = tf.reduce_mean(tf.square(H -T))\n",
    "\n",
    "train = tf.train.GradientDescentOptimizer(learning_rate = 0.001).minimize(loss)\n",
    "\n",
    "sess = tf.Session()\n",
    "\n",
    "sess.run(tf.global_variables_initializer())\n",
    "\n",
    "for step in range(30000):\n",
    "    _, W_val, b_val, loss_val = sess.run([train,W,b,loss],\n",
    "                                        feed_dict = {X : x_data, T : t_data})\n",
    "    if step % 3000 == 0:\n",
    "        print('W : {}, b : {}, loss : {}'.format(W_val,b_val,loss_val))\n",
    "        \n",
    "print(sess.run(H,feed_dict ={ X : [7]}))\n",
    "\n"
   ]
  },
  {
   "cell_type": "code",
   "execution_count": null,
   "metadata": {},
   "outputs": [],
   "source": [
    "\n",
    "X = tf.placeholder(dtype = tf.float32)\n",
    "T = tf.placeholder(dtype = tf.float32)\n",
    "for step in range(30000):\n",
    "    _, W_val, b_val, loss_val = sess.run([train,W,b,loss],\n",
    "                                        feed_dict = {X : x_data, T : t_data})\n",
    "    if step % 3000 == 0:\n",
    "        print('W : {}, b : {}, loss : {}'.format(W_val,b_val,loss_val))\n",
    "loss = tf.reduce_mean(tf.square(H -T))\n",
    "\n",
    "train = tf.train.GradientDescentOptimizer(learning_rate = 0.001).minimize(loss)\n",
    "\n",
    "sess = tf.Session()\n",
    "\n",
    "sess.run(tf.global_variables_initializer())\n",
    "\n"
   ]
  }
 ],
 "metadata": {
  "kernelspec": {
   "display_name": "Python [conda env:data_env] *",
   "language": "python",
   "name": "conda-env-data_env-py"
  },
  "language_info": {
   "codemirror_mode": {
    "name": "ipython",
    "version": 3
   },
   "file_extension": ".py",
   "mimetype": "text/x-python",
   "name": "python",
   "nbconvert_exporter": "python",
   "pygments_lexer": "ipython3",
   "version": "3.7.9"
  }
 },
 "nbformat": 4,
 "nbformat_minor": 4
}
