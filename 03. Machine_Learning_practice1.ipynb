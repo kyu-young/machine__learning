{
 "cells": [
  {
   "cell_type": "code",
   "execution_count": 14,
   "metadata": {},
   "outputs": [
    {
     "name": "stdout",
     "output_type": "stream",
     "text": [
      "W = [[0.30299099]], b: [[0.31371037]], loss : 3586.305603980669\n",
      "W = [[3.90136899]], b: [[3.9022145]], loss : 143.1466322165574\n",
      "W = [[3.90136899]], b: [[3.9022145]], loss : 143.1466322165574\n",
      "W = [[3.90136899]], b: [[3.9022145]], loss : 143.1466322165574\n",
      "W = [[3.90136899]], b: [[3.9022145]], loss : 143.1466322165574\n",
      "W = [[3.90136899]], b: [[3.9022145]], loss : 143.1466322165574\n",
      "W = [[3.90136899]], b: [[3.9022145]], loss : 143.1466322165574\n",
      "W = [[3.90136899]], b: [[3.9022145]], loss : 143.1466322165574\n",
      "W = [[3.90136899]], b: [[3.9022145]], loss : 143.1466322165574\n",
      "W = [[3.90136899]], b: [[3.9022145]], loss : 143.1466322165574\n",
      "W = [[3.90136899]], b: [[3.9022145]], loss : 143.1466322165574\n",
      "W = [[3.90136899]], b: [[3.9022145]], loss : 143.1466322165574\n",
      "W = [[3.90136899]], b: [[3.9022145]], loss : 143.1466322165574\n",
      "W = [[3.90136899]], b: [[3.9022145]], loss : 143.1466322165574\n",
      "W = [[3.90136899]], b: [[3.9022145]], loss : 143.1466322165574\n",
      "W = [[3.90136899]], b: [[3.9022145]], loss : 143.1466322165574\n",
      "[[81.92959434]]\n"
     ]
    },
    {
     "data": {
      "image/png": "[encoded data removed]",
      "text/plain": [
       "<Figure size 432x288 with 1 Axes>"
      ]
     },
     "metadata": {},
     "output_type": "display_data"
    }
   ],
   "source": [
    "import numpy as np\n",
    "import matplotlib.pyplot as plt\n",
    "import matplotlib.colors as color\n",
    "\n",
    "# Training Data Set\n",
    "x_data = np.array([1, 2, 3, 4, 5, 7, 8, 10, 12, 13, 14, 15, 18, 20, 25, 28, 30]).reshape(-1,1)\n",
    "t_data = np.array([5, 7, 20, 31, 40, 44, 46, 49, 60, 62, 70, 80, 85, 91, 92, 97, 98]).reshape(-1,1)\n",
    "\n",
    "\n",
    "W = np.random.rand(1,1)\n",
    "b = np.random.rand(1)\n",
    "\n",
    "def loss_func(x, t):\n",
    "    \n",
    "    y = np.dot(x, W) + b\n",
    "    \n",
    "    return np.mean(np.power((t-y),2))\n",
    "\n",
    "def numerical_dericative(f,x):\n",
    "\n",
    "    delta_x = 1e-4\n",
    "    derivative_x = np.zeros_like(x)\n",
    "    \n",
    "\n",
    "    it = np.nditer(x, flags=['multi_index'])\n",
    "    \n",
    "    while not it.finished:\n",
    "        \n",
    "        idx = it.multi_index\n",
    "        \n",
    "        tmp = x[idx]\n",
    "        \n",
    "        x[idx] = tmp + delta_x\n",
    "        \n",
    "        fx_plus_delta = f(x)\n",
    "        \n",
    "        x[idx] = tmp - delta_x\n",
    "        \n",
    "        fx_minus_delta = f(x)\n",
    "        \n",
    "        derivative_x[idx] = (fx_plus_delta - fx_minus_delta) / (2 * delta_x)\n",
    "        \n",
    "        x[idx] = tmp\n",
    "        \n",
    "        it.iternext()\n",
    "        \n",
    "    return derivative_x\n",
    "\n",
    "def predict(x):\n",
    "\n",
    "    return np.dot(x,W) + b\n",
    "\n",
    "learning_rate = 0.0001\n",
    "\n",
    "f = lambda x : loss_func(x_data, t_data)\n",
    "\n",
    "for step in range(80000):\n",
    "    \n",
    "    W = W - learning_rate * numerical_dericative(f,W)\n",
    "    b = W - learning_rate * numerical_dericative(f,b)\n",
    "    \n",
    "    if step % 5000 == 0:\n",
    "        print('W = {}, b: {}, loss : {}'.format(W,b,loss_func(x_data,t_data)))\n",
    "        \n",
    "print(predict(20))\n",
    "plt.rcParams['figure.facecolor'] = 'white'\n",
    "plt.scatter(x_data.ravel(), t_data.ravel())\n",
    "plt.plot(x_data.ravel(), np.dot(x_data, W) + b)\n",
    "plt.show()"
   ]
  },
  {
   "cell_type": "code",
   "execution_count": 28,
   "metadata": {},
   "outputs": [
    {
     "name": "stdout",
     "output_type": "stream",
     "text": [
      "     Ozone  Solar.R  Wind  Temp  Month  Day\n",
      "0     41.0    190.0   7.4    67      5    1\n",
      "1     36.0    118.0   8.0    72      5    2\n",
      "2     12.0    149.0  12.6    74      5    3\n",
      "3     18.0    313.0  11.5    62      5    4\n",
      "4      NaN      NaN  14.3    56      5    5\n",
      "..     ...      ...   ...   ...    ...  ...\n",
      "148   30.0    193.0   6.9    70      9   26\n",
      "149    NaN    145.0  13.2    77      9   27\n",
      "150   14.0    191.0  14.3    75      9   28\n",
      "151   18.0    131.0   8.0    76      9   29\n",
      "152   20.0    223.0  11.5    68      9   30\n",
      "\n",
      "[153 rows x 6 columns]\n",
      "W : [[0.37027802]], b : [0.70348113], loss : 1089.176098226174\n",
      "W : [[0.56215498]], b : [0.49164794], loss : 868.0102368085007\n",
      "W : [[0.56485852]], b : [0.27802517], loss : 867.0974148195916\n",
      "W : [[0.56755815]], b : [0.06471181], loss : 866.1872352080994\n",
      "W : [[0.57025386]], b : [-0.14829258], loss : 865.2796903250435\n",
      "W : [[0.57294567]], b : [-0.36098845], loss : 864.3747725435892\n"
     ]
    },
    {
     "data": {
      "image/png": "[encoded data removed]",
      "text/plain": [
       "<Figure size 432x288 with 1 Axes>"
      ]
     },
     "metadata": {},
     "output_type": "display_data"
    },
    {
     "name": "stdout",
     "output_type": "stream",
     "text": [
      "[[35.11591462]]\n"
     ]
    }
   ],
   "source": [
    "import numpy as np\n",
    "import pandas as pd\n",
    "import matplotlib.pyplot as plt\n",
    "\n",
    "\n",
    "import my_library.machine_learning_library\n",
    "\n",
    "df = pd.read_csv(\"/Users/mac/notebook_dir/data/ozone.csv\")\n",
    "print(df)\n",
    "\n",
    "training_data = df[[\n",
    "    'Temp','Ozone'\n",
    "]]\n",
    "\n",
    "# print(training_data.shape)\n",
    "\n",
    "training_data = training_data.dropna(how = 'any')\n",
    "\n",
    "# print(training_data.shape)\n",
    "\n",
    "x_data = training_data['Temp'].values.reshape(-1,1)\n",
    "t_data = training_data['Ozone'].values.reshape(-1,1)\n",
    "\n",
    "W = np.random.rand(1,1)\n",
    "b = np.random.rand(1)\n",
    "\n",
    "def loss_func(x,t):\n",
    "    \n",
    "    y = np.dot(x,W) + b\n",
    "    \n",
    "    return np.mean(np.power((t-y),2))\n",
    "\n",
    "def predict(x):\n",
    "    \n",
    "    return np.dot(x, W) + b\n",
    "\n",
    "learning_rate = 1e-5\n",
    "\n",
    "f = lambda x : loss_func(x_data, t_data)\n",
    "\n",
    "for step in range(30000):\n",
    "    \n",
    "    W = W - learning_rate * numerical_dericative(f,W)\n",
    "    b = b - learning_rate * numerical_dericative(f,b)\n",
    "    \n",
    "    if step % 5000 ==  0 :\n",
    "        print(f\"W : {W}, b : {b}, loss : {loss_func(x_data,t_data)}\")\n",
    "        \n",
    "plt.scatter(x_data, t_data)\n",
    "plt.rcParams['figure.facecolor'] = 'white'\n",
    "plt.plot(x_data,np.dot(x_data,W) + b, color = 'r')\n",
    "\n",
    "plt.show()\n",
    "\n",
    "result = predict(62)\n",
    "print(result)"
   ]
  },
  {
   "cell_type": "code",
   "execution_count": 29,
   "metadata": {},
   "outputs": [
    {
     "name": "stdout",
     "output_type": "stream",
     "text": [
      "     Temp  Ozone\n",
      "0      67   41.0\n",
      "1      72   36.0\n",
      "2      74   12.0\n",
      "3      62   18.0\n",
      "4      56    NaN\n",
      "..    ...    ...\n",
      "148    70   30.0\n",
      "149    77    NaN\n",
      "150    75   14.0\n",
      "151    76   18.0\n",
      "152    68   20.0\n",
      "\n",
      "[153 rows x 2 columns]\n"
     ]
    }
   ],
   "source": [
    "import numpy as np\n",
    "import pandas as pd\n",
    "import matplotlib.pyplot as plt\n",
    "from sklearn import linear_model\n",
    "\n",
    "df = pd.read_csv('/Users/mac/notebook_dir/data/ozone.csv')\n",
    "\n",
    "training_data = df[[\n",
    "    'Temp', 'Ozone'\n",
    "]]\n",
    "\n",
    "print(training_data) = training_data.dropna(how = 'any')"
   ]
  }
 ],
 "metadata": {
  "kernelspec": {
   "display_name": "Python [conda env:data_env] *",
   "language": "python",
   "name": "conda-env-data_env-py"
  },
  "language_info": {
   "codemirror_mode": {
    "name": "ipython",
    "version": 3
   },
   "file_extension": ".py",
   "mimetype": "text/x-python",
   "name": "python",
   "nbconvert_exporter": "python",
   "pygments_lexer": "ipython3",
   "version": "3.7.9"
  }
 },
 "nbformat": 4,
 "nbformat_minor": 4
}
